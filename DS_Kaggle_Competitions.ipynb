{
 "cells": [
  {
   "cell_type": "code",
   "execution_count": 1,
   "id": "b395aa9f",
   "metadata": {},
   "outputs": [
    {
     "name": "stdout",
     "output_type": "stream",
     "text": [
      "   Survived  Pclass   Age  SibSp  Parch     Fare  Sex_female  Embarked_Q  \\\n",
      "0         0       3  22.0      1      0   7.2500           0           0   \n",
      "1         1       1  38.0      1      0  71.2833           1           0   \n",
      "2         1       3  26.0      0      0   7.9250           1           0   \n",
      "3         1       1  35.0      1      0  53.1000           1           0   \n",
      "4         0       3  35.0      0      0   8.0500           0           0   \n",
      "\n",
      "   Embarked_S  \n",
      "0           1  \n",
      "1           0  \n",
      "2           1  \n",
      "3           1  \n",
      "4           1  \n",
      "Logit: 0.8013468013468014 \n",
      "\n",
      "best_tree_params: {'max_depth': 8, 'min_samples_leaf': 1, 'min_samples_split': 16}\n",
      "Tree: 0.8664421997755332 \n",
      "\n",
      "best_rf_params: {'max_depth': 12, 'min_samples_leaf': 1, 'min_samples_split': 6, 'n_estimators': 18}\n",
      "Random Forest: 0.9135802469135802\n"
     ]
    }
   ],
   "source": [
    "import numpy as np\n",
    "import pandas as pd\n",
    "from sklearn.linear_model import LogisticRegressionCV\n",
    "from sklearn.tree import DecisionTreeClassifier\n",
    "from sklearn.model_selection import GridSearchCV\n",
    "from sklearn.ensemble import RandomForestClassifier\n",
    "\n",
    "\n",
    "data_train = pd.read_csv('/Users/ilyanovikov/Desktop/Доп_обучение/titanic/train.csv')\n",
    "\n",
    "data_1 = data_train.drop(['Name','Ticket','PassengerId'],axis = 1) # выкинул имя,номер билета и id пассажира, \n",
    "#в них не может содержаться закономерность, иначе мистика\n",
    "data_1.isna().sum() # проверил, где есть пропущенные значения, больше всего их в колонке Cabin\n",
    "data_2 = data_1.drop('Cabin',axis = 1) #выбросил колонку Cabin\n",
    "data_3 = pd.get_dummies(data_2) #тк библиотеки для DS не умеют работать с текстом, разбил номинативные\n",
    "#переменные на dummy_values\n",
    "data_4 = data_3.fillna(data_3.Age.median())# заполнил пропуски в колонке Age медианным значением\n",
    "data_4.isna().sum()\n",
    "\n",
    "# У нас есть явная коллинеарность между Sex_female и Sex_male, а также между Embarked\n",
    "# Я бы, наверное, выкинул что-то, потестим\n",
    "data_5 = data_4.drop(['Sex_male','Embarked_C'],axis = 1)\n",
    "print(data_5.head())\n",
    "\n",
    "# Создаем обучающую выборку\n",
    "X_train = data_5.drop(['Survived'],axis = 1)\n",
    "Y_train = data_5.Survived\n",
    "\n",
    "\n",
    "# КОНЕЦ ПРЕДОБРАБОТКИ\n",
    "\n",
    "# Строим модельки, пока только обучаем, смотрим на точность обучения:\n",
    "\n",
    "# Логистическая регрессия\n",
    "clf = LogisticRegressionCV(random_state = 0, cv = 5, max_iter = 500)\n",
    "clf.fit(X_train,Y_train)\n",
    "print('Logit:',clf.score(X_train,Y_train),'\\n')\n",
    "\n",
    "# Дерево решений\n",
    "tr_clf = DecisionTreeClassifier(criterion = 'entropy',random_state=0)\n",
    "params = {'max_depth':range(4,30,2),'min_samples_split':range(4,20,2),'min_samples_leaf':range(1,10,2)}\n",
    "search = GridSearchCV(tr_clf,params,cv = 5)\n",
    "search.fit(X_train,Y_train)\n",
    "tree_params = search.best_params_\n",
    "print('best_tree_params:',tree_params)\n",
    "opt_clf = search.best_estimator_\n",
    "print('Tree:',opt_clf.score(X_train,Y_train),'\\n')\n",
    "\n",
    "# Random Forest\n",
    "\n",
    "rf_clf = RandomForestClassifier(random_state = 0)\n",
    "par = {'n_estimators':range(6,24,2),'max_depth':range(4,30,2),'min_samples_split':range(4,20,2),'min_samples_leaf':range(1,10,2)}\n",
    "rf_sch = GridSearchCV(rf_clf,par,cv = 4,n_jobs=-1)\n",
    "rf_sch.fit(X_train,Y_train)\n",
    "rf_params = rf_sch.best_params_\n",
    "print('best_rf_params:',rf_params)\n",
    "opt_rf_clf = rf_sch.best_estimator_\n",
    "print('Random Forest:', opt_rf_clf.score(X_train,Y_train))"
   ]
  },
  {
   "cell_type": "code",
   "execution_count": 2,
   "id": "dc587e58",
   "metadata": {},
   "outputs": [],
   "source": [
    "data_test = pd.read_csv('/Users/ilyanovikov/Desktop/Доп_Обучение/titanic/test.csv')\n",
    "\n",
    "test_1 = data_test.drop(['Name','Ticket','PassengerId','Cabin'],axis = 1) \n",
    "test_2 = pd.get_dummies(test_1)\n",
    "test_3 = test_2.fillna(test_2.Age.median())# заполнил пропуски в колонке Age медианным значением\n",
    "test_4 = test_3.drop(['Sex_male','Embarked_C'],axis = 1)\n",
    "\n",
    "X_test = test_4\n",
    "\n",
    "L_pred = clf.predict(X_test)\n",
    "Logit_pred = pd.DataFrame({'PassengerId':data_test.PassengerId,'Survived':L_pred}).set_index('PassengerId')\n",
    "Logit_pred.to_csv('/Users/ilyanovikov/Desktop/Logit_pred.csv')\n",
    "\n",
    "Tree_pred = opt_clf.predict(X_test)\n",
    "Tree_pred_df = pd.DataFrame({'PassengerId':data_test.PassengerId,'Survived':Tree_pred}).set_index('PassengerId')\n",
    "Tree_pred_df.to_csv('/Users/ilyanovikov/Desktop/Tree_pred.csv')\n",
    "\n",
    "R_pred = opt_rf_clf.predict(X_test)\n",
    "R_pred_df = pd.DataFrame({'PassengerId':data_test.PassengerId,'Survived':R_pred}).set_index('PassengerId')\n",
    "R_pred_df.to_csv('/Users/ilyanovikov/Desktop/RF_pred.csv')\n",
    "\n"
   ]
  },
  {
   "cell_type": "code",
   "execution_count": 3,
   "id": "3b74bae7",
   "metadata": {},
   "outputs": [
    {
     "data": {
      "text/html": [
       "<div>\n",
       "<style scoped>\n",
       "    .dataframe tbody tr th:only-of-type {\n",
       "        vertical-align: middle;\n",
       "    }\n",
       "\n",
       "    .dataframe tbody tr th {\n",
       "        vertical-align: top;\n",
       "    }\n",
       "\n",
       "    .dataframe thead th {\n",
       "        text-align: right;\n",
       "    }\n",
       "</style>\n",
       "<table border=\"1\" class=\"dataframe\">\n",
       "  <thead>\n",
       "    <tr style=\"text-align: right;\">\n",
       "      <th></th>\n",
       "      <th>name</th>\n",
       "      <th>importance</th>\n",
       "    </tr>\n",
       "  </thead>\n",
       "  <tbody>\n",
       "    <tr>\n",
       "      <th>6</th>\n",
       "      <td>Embarked_Q</td>\n",
       "      <td>0.000000</td>\n",
       "    </tr>\n",
       "    <tr>\n",
       "      <th>7</th>\n",
       "      <td>Embarked_S</td>\n",
       "      <td>0.020234</td>\n",
       "    </tr>\n",
       "    <tr>\n",
       "      <th>3</th>\n",
       "      <td>Parch</td>\n",
       "      <td>0.020569</td>\n",
       "    </tr>\n",
       "    <tr>\n",
       "      <th>2</th>\n",
       "      <td>SibSp</td>\n",
       "      <td>0.020847</td>\n",
       "    </tr>\n",
       "    <tr>\n",
       "      <th>0</th>\n",
       "      <td>Pclass</td>\n",
       "      <td>0.135262</td>\n",
       "    </tr>\n",
       "    <tr>\n",
       "      <th>1</th>\n",
       "      <td>Age</td>\n",
       "      <td>0.188560</td>\n",
       "    </tr>\n",
       "    <tr>\n",
       "      <th>4</th>\n",
       "      <td>Fare</td>\n",
       "      <td>0.203614</td>\n",
       "    </tr>\n",
       "    <tr>\n",
       "      <th>5</th>\n",
       "      <td>Sex_female</td>\n",
       "      <td>0.410915</td>\n",
       "    </tr>\n",
       "  </tbody>\n",
       "</table>\n",
       "</div>"
      ],
      "text/plain": [
       "         name  importance\n",
       "6  Embarked_Q    0.000000\n",
       "7  Embarked_S    0.020234\n",
       "3       Parch    0.020569\n",
       "2       SibSp    0.020847\n",
       "0      Pclass    0.135262\n",
       "1         Age    0.188560\n",
       "4        Fare    0.203614\n",
       "5  Sex_female    0.410915"
      ]
     },
     "execution_count": 3,
     "metadata": {},
     "output_type": "execute_result"
    }
   ],
   "source": [
    "tree_feat_imp = opt_clf.feature_importances_\n",
    "tree_imp = pd.DataFrame({'name':list(X_train),'importance':tree_feat_imp})\n",
    "tree_imp.sort_values(by = 'importance')"
   ]
  },
  {
   "cell_type": "code",
   "execution_count": null,
   "id": "b7a27208",
   "metadata": {},
   "outputs": [],
   "source": []
  },
  {
   "cell_type": "code",
   "execution_count": 4,
   "id": "f03405d1",
   "metadata": {},
   "outputs": [
    {
     "ename": "TypeError",
     "evalue": "__init__() got an unexpected keyword argument 'data'",
     "output_type": "error",
     "traceback": [
      "\u001b[0;31m---------------------------------------------------------------------------\u001b[0m",
      "\u001b[0;31mTypeError\u001b[0m                                 Traceback (most recent call last)",
      "\u001b[0;32m/var/folders/sd/c8nwk4616hn2czh04yrmmqbh0000gn/T/ipykernel_81708/1932095572.py\u001b[0m in \u001b[0;36m<module>\u001b[0;34m\u001b[0m\n\u001b[1;32m     13\u001b[0m \u001b[0mdata_5\u001b[0m \u001b[0;34m=\u001b[0m \u001b[0mdata_4\u001b[0m\u001b[0;34m.\u001b[0m\u001b[0mdrop\u001b[0m\u001b[0;34m(\u001b[0m\u001b[0;34m[\u001b[0m\u001b[0;34m'Sex_male'\u001b[0m\u001b[0;34m,\u001b[0m\u001b[0;34m'Embarked_C'\u001b[0m\u001b[0;34m]\u001b[0m\u001b[0;34m,\u001b[0m\u001b[0maxis\u001b[0m \u001b[0;34m=\u001b[0m \u001b[0;36m1\u001b[0m\u001b[0;34m)\u001b[0m\u001b[0;34m\u001b[0m\u001b[0;34m\u001b[0m\u001b[0m\n\u001b[1;32m     14\u001b[0m \u001b[0;34m\u001b[0m\u001b[0m\n\u001b[0;32m---> 15\u001b[0;31m \u001b[0mlog_reg_Logit\u001b[0m \u001b[0;34m=\u001b[0m \u001b[0mLogisticRegression\u001b[0m\u001b[0;34m(\u001b[0m\u001b[0;34m'Survived ~ Sex'\u001b[0m\u001b[0;34m,\u001b[0m\u001b[0mdata\u001b[0m \u001b[0;34m=\u001b[0m \u001b[0mdata_5\u001b[0m\u001b[0;34m)\u001b[0m\u001b[0;34m.\u001b[0m\u001b[0mfit\u001b[0m\u001b[0;34m(\u001b[0m\u001b[0;34m)\u001b[0m\u001b[0;34m\u001b[0m\u001b[0;34m\u001b[0m\u001b[0m\n\u001b[0m",
      "\u001b[0;31mTypeError\u001b[0m: __init__() got an unexpected keyword argument 'data'"
     ]
    }
   ],
   "source": [
    "import numpy as np\n",
    "import pandas as pd\n",
    "from sklearn.linear_model import LogisticRegression\n",
    "\n",
    "data_train = pd.read_csv('/Users/ilyanovikov/Desktop/Доп_обучение/titanic/train.csv')\n",
    "\n",
    "data_1 = data_train.drop(['Name','Ticket','PassengerId'],axis = 1) \n",
    "data_1.isna().sum()\n",
    "data_2 = data_1.drop('Cabin',axis = 1) \n",
    "data_3 = pd.get_dummies(data_2) \n",
    "data_4 = data_3.fillna(data_3.Age.median())\n",
    "\n",
    "data_5 = data_4.drop(['Sex_male','Embarked_C'],axis = 1)\n",
    "\n",
    "log_reg_Logit = LogisticRegression('Survived ~ Sex',data = data_5).fit()"
   ]
  },
  {
   "cell_type": "code",
   "execution_count": 5,
   "id": "02910607",
   "metadata": {},
   "outputs": [
    {
     "data": {
      "text/plain": [
       "0.7861683683298016"
      ]
     },
     "execution_count": 5,
     "metadata": {},
     "output_type": "execute_result"
    }
   ],
   "source": [
    "from sklearn.linear_model import LogisticRegressionCV\n",
    "from sklearn.metrics import roc_auc_score\n",
    "from sklearn.neural_network import MLPClassifier\n",
    "from sklearn.preprocessing import StandardScaler  \n",
    "from sklearn.model_selection import train_test_split\n",
    "\n",
    "X = data_5.drop(['Survived'],axis = 1)\n",
    "Y = data_5.Survived\n",
    "\n",
    "\n",
    "X_train, X_test, y_train, y_test = train_test_split(X,Y, test_size=0.33, random_state=50)\n",
    "#scaler = StandardScaler()\n",
    "#scaler.fit(X_train)\n",
    "#X_train1 = scaler.transform(X_train)\n",
    "#X_test1 = scaler.transform(X_test)\n",
    "\n",
    "nn = MLPClassifier(solver ='adam', alpha = 0, max_iter = 1000)\n",
    "\n",
    "nn.fit(X_train, y_train)\n",
    "pred = nn.predict(X_test)\n",
    "roc_auc_score(y_test, pred)\n",
    "\n",
    "\n",
    "#clf = MLPClassifier(solver='lbfgs', alpha=1e-5, hidden_layer_sizes=(5, 2), random_state=1)"
   ]
  },
  {
   "cell_type": "code",
   "execution_count": null,
   "id": "c1435ae8",
   "metadata": {},
   "outputs": [],
   "source": []
  },
  {
   "cell_type": "code",
   "execution_count": 6,
   "id": "b3ad29a5",
   "metadata": {},
   "outputs": [
    {
     "name": "stdout",
     "output_type": "stream",
     "text": [
      "Optimization terminated successfully.\n",
      "         Current function value: 0.515041\n",
      "         Iterations 5\n",
      "                 Generalized Linear Model Regression Results                  \n",
      "==============================================================================\n",
      "Dep. Variable:               Survived   No. Observations:                  891\n",
      "Model:                            GLM   Df Residuals:                      889\n",
      "Model Family:                Binomial   Df Model:                            1\n",
      "Link Function:                  Logit   Scale:                          1.0000\n",
      "Method:                          IRLS   Log-Likelihood:                -458.90\n",
      "Date:                Tue, 07 Mar 2023   Deviance:                       917.80\n",
      "Time:                        02:18:30   Pearson chi2:                     891.\n",
      "No. Iterations:                     4   Pseudo R-squ. (CS):             0.2605\n",
      "Covariance Type:            nonrobust                                         \n",
      "===============================================================================\n",
      "                  coef    std err          z      P>|z|      [0.025      0.975]\n",
      "-------------------------------------------------------------------------------\n",
      "Intercept       1.0566      0.129      8.191      0.000       0.804       1.309\n",
      "Sex[T.male]    -2.5137      0.167    -15.036      0.000      -2.841      -2.186\n",
      "=============================================================================== \n",
      "\n",
      "                           Logit Regression Results                           \n",
      "==============================================================================\n",
      "Dep. Variable:               Survived   No. Observations:                  891\n",
      "Model:                          Logit   Df Residuals:                      889\n",
      "Method:                           MLE   Df Model:                            1\n",
      "Date:                Tue, 07 Mar 2023   Pseudo R-squ.:                  0.2266\n",
      "Time:                        02:18:30   Log-Likelihood:                -458.90\n",
      "converged:                       True   LL-Null:                       -593.33\n",
      "Covariance Type:            nonrobust   LLR p-value:                 2.020e-60\n",
      "===============================================================================\n",
      "                  coef    std err          z      P>|z|      [0.025      0.975]\n",
      "-------------------------------------------------------------------------------\n",
      "Intercept       1.0566      0.129      8.191      0.000       0.804       1.309\n",
      "Sex[T.male]    -2.5137      0.167    -15.036      0.000      -2.841      -2.186\n",
      "===============================================================================\n"
     ]
    }
   ],
   "source": [
    "import pandas as pd\n",
    "import numpy as np\n",
    "import scipy as sp\n",
    "import statsmodels.api as sm\n",
    "import matplotlib.pyplot as plt\n",
    "\n",
    "Data = pd.read_csv('/Users/ilyanovikov/Desktop/Доп_обучение/Test_DS/titanic.csv', header = 0, sep = ',')\n",
    "\n",
    "\n",
    "import statsmodels.formula.api as smf\n",
    "\n",
    "### с помощью модели GLM \n",
    "### ОБЯЗАТЕЛЬНО указывать, что Family - Binomial, иначе результат будет неверным\n",
    "log_reg = smf.glm('Survived ~ Sex',data = Data,family = sm.families.Binomial()).fit()\n",
    "\n",
    "### с помощью модели Logit\n",
    "log_reg_Logit = smf.logit('Survived ~ Sex',data = Data).fit()\n",
    "\n",
    "print(log_reg.summary(),'\\n')\n",
    "print(log_reg_Logit.summary())\n",
    "\n"
   ]
  },
  {
   "cell_type": "markdown",
   "id": "cc5fd87e",
   "metadata": {},
   "source": [
    "## ---------------------------------------------------------------------------------------------------"
   ]
  },
  {
   "cell_type": "markdown",
   "id": "e2f1daab",
   "metadata": {},
   "source": [
    "Повспоминаем модели и потренируемся на iris-e"
   ]
  },
  {
   "cell_type": "code",
   "execution_count": 7,
   "id": "e93bf793",
   "metadata": {},
   "outputs": [
    {
     "name": "stdout",
     "output_type": "stream",
     "text": [
      "12\n",
      "KNN (K = 12 ): 0.98\n",
      "TREE(depth = 12 ): 0.98\n"
     ]
    }
   ],
   "source": [
    "import pandas as pd\n",
    "import numpy as np\n",
    "\n",
    "from sklearn.tree import DecisionTreeClassifier\n",
    "from sklearn.neighbors import KNeighborsClassifier\n",
    "from sklearn.datasets import load_iris\n",
    "from sklearn.model_selection import train_test_split\n",
    "from sklearn.metrics import accuracy_score\n",
    "\n",
    "import warnings\n",
    "warnings.filterwarnings('ignore')\n",
    "\n",
    "data = load_iris()\n",
    "features = data.data\n",
    "classes = data.target\n",
    "\n",
    "features_pd_test = pd.DataFrame({'sepal_length':features[:,0],'sepal_width':features[:,1],'petal_length':features[:,2],'petal_width':features[:,3]})\n",
    "features_main = features_pd_test.drop(['sepal_length','sepal_width'], axis = 1)\n",
    "features_main\n",
    "classes_pd = pd.DataFrame({'class':classes})\n",
    "X_train, X_test, y_train, y_test = train_test_split(features_main,classes_pd,test_size=0.33, random_state=42)\n",
    "\n",
    "n_nei = int(input())\n",
    "knn_clf = KNeighborsClassifier(n_neighbors = n_nei)\n",
    "knn_clf.fit(X_train,y_train)\n",
    "predictions = knn_clf.predict(X_test)\n",
    "score_knn = accuracy_score(predictions, y_test)\n",
    "\n",
    "\n",
    "clf_tree = DecisionTreeClassifier(max_depth = n_nei)\n",
    "clf_tree.fit(X_train, y_train)\n",
    "pred_tree = clf_tree.predict(X_test)\n",
    "score_tree = accuracy_score(pred_tree, y_test)\n",
    "\n",
    "print('KNN (K =',n_nei,'):',score_knn)\n",
    "print('TREE(depth =',n_nei,'):',score_tree)"
   ]
  },
  {
   "cell_type": "code",
   "execution_count": 8,
   "id": "6ae66cde",
   "metadata": {},
   "outputs": [
    {
     "name": "stdout",
     "output_type": "stream",
     "text": [
      "logit: 0.82\n",
      "tree: 0.74\n"
     ]
    },
    {
     "data": {
      "image/png": "[encoded data removed]",
      "text/plain": [
       "<Figure size 432x288 with 1 Axes>"
      ]
     },
     "metadata": {
      "needs_background": "light"
     },
     "output_type": "display_data"
    }
   ],
   "source": [
    "import matplotlib.pyplot as plt\n",
    "import seaborn as sns\n",
    "from sklearn.model_selection import train_test_split\n",
    "from sklearn.datasets import load_iris\n",
    "from sklearn.linear_model import LogisticRegression\n",
    "from sklearn.tree import DecisionTreeClassifier\n",
    "from sklearn.metrics import accuracy_score\n",
    "\n",
    "import warnings\n",
    "warnings.filterwarnings('ignore')\n",
    "\n",
    "X,y = load_iris(return_X_y=True)\n",
    "X1 = X[:,0]\n",
    "X2 = X[:,1]\n",
    "X3 = X[:,2]\n",
    "X4 = X[:,3]\n",
    "\n",
    "\n",
    "sns.scatterplot(X1,y,label = '1')\n",
    "sns.scatterplot(X2,y,label = '2')\n",
    "\n",
    "X_train, X_test, y_train, y_test = train_test_split(X[:,0:2],y,test_size=0.33, random_state=42)\n",
    "#print(X_train)\n",
    "logit_clf = LogisticRegression()\n",
    "logit_clf.fit(X_train, y_train)\n",
    "pred_logit = logit_clf.predict(X_test)\n",
    "logit_score = accuracy_score(pred_logit,y_test)\n",
    "print('logit:',logit_score)\n",
    "\n",
    "clf=DecisionTreeClassifier(criterion='entropy')\n",
    "clf.fit(X_train,y_train)\n",
    "pred_tree = clf.predict(X_test)\n",
    "tree_score = accuracy_score(pred_tree,y_test)\n",
    "print('tree:',tree_score)"
   ]
  },
  {
   "cell_type": "markdown",
   "id": "4f04891d",
   "metadata": {},
   "source": [
    "## -----------------------------------------------------------------------------------------------"
   ]
  },
  {
   "cell_type": "markdown",
   "id": "14e16c94",
   "metadata": {},
   "source": [
    "Раньше я не использовал train_test_split для решения задачи о выживании на титанике.\n",
    "Просто выгружал результирующие данные на Kaggle и смотрел на то, что получилось.\n",
    "Сейчас все дб быстрее"
   ]
  },
  {
   "cell_type": "code",
   "execution_count": 156,
   "id": "956e6568",
   "metadata": {},
   "outputs": [
    {
     "name": "stdout",
     "output_type": "stream",
     "text": [
      "logit: 0.7593220338983051\n",
      "knn: 0.6610169491525424\n",
      "tree: 0.7728813559322034\n",
      "rf: 0.7830508474576271\n"
     ]
    }
   ],
   "source": [
    "import numpy as np\n",
    "import pandas as pd\n",
    "from sklearn.linear_model import LogisticRegressionCV\n",
    "from sklearn.tree import DecisionTreeClassifier\n",
    "from sklearn.model_selection import GridSearchCV\n",
    "from sklearn.ensemble import RandomForestClassifier\n",
    "\n",
    "\n",
    "data_train = pd.read_csv('/Users/ilyanovikov/Desktop/titanic/train.csv')\n",
    "\n",
    "data_1 = data_train.drop(['Name','Ticket','PassengerId'],axis = 1) # выкинул имя,номер билета и id пассажира, \n",
    "#в них не может содержаться закономерность, иначе мистика\n",
    "data_1.isna().sum() # проверил, где есть пропущенные значения, больше всего их в колонке Cabin\n",
    "data_2 = data_1.drop('Cabin',axis = 1) #выбросил колонку Cabin\n",
    "data_3 = pd.get_dummies(data_2) #тк библиотеки для DS не умеют работать с текстом, разбил номинативные\n",
    "#переменные на dummy_values\n",
    "data_4 = data_3.fillna(data_3.Age.median())# заполнил пропуски в колонке Age медианным значением\n",
    "data_4.isna().sum()\n",
    "\n",
    "# У нас есть явная коллинеарность между Sex_female и Sex_male, а также между Embarked\n",
    "# Я бы, наверное, выкинул что-то, потестим\n",
    "data_5 = data_4.drop(['Sex_male','Embarked_C'],axis = 1)\n",
    "\n",
    "y = data_5.Survived\n",
    "X = data_5.drop(['Survived'],axis = 1)\n",
    "\n",
    "from sklearn.model_selection import train_test_split\n",
    "from sklearn.metrics import accuracy_score\n",
    "from sklearn.metrics import r2_score\n",
    "\n",
    "from sklearn.linear_model import LogisticRegression\n",
    "from sklearn.neighbors import KNeighborsClassifier\n",
    "from sklearn.tree import DecisionTreeClassifier\n",
    "from sklearn.ensemble import RandomForestClassifier\n",
    "\n",
    "X_train, X_test, y_train, y_test = train_test_split(X,y, test_size=0.33)\n",
    "\n",
    "#инициализация классификаторов\n",
    "clf_logit = LogisticRegression(max_iter = 1000)\n",
    "clf_knn = KNeighborsClassifier(n_neighbors = 16)\n",
    "clf_tree = DecisionTreeClassifier(criterion = 'entropy')\n",
    "clf_rf = RandomForestClassifier()\n",
    "\n",
    "# обучение\n",
    "clf_logit.fit(X_train,y_train)\n",
    "clf_knn.fit(X_train,y_train)\n",
    "clf_tree.fit(X_train, y_train)\n",
    "clf_rf.fit(X_train,y_train)\n",
    "\n",
    "# тестирование\n",
    "pred_logit = clf_logit.predict(X_test)\n",
    "pred_knn = clf_knn.predict(X_test)\n",
    "pred_tree = clf_tree.predict(X_test)\n",
    "pred_rf = clf_rf.predict(X_test)\n",
    "\n",
    "#accuracy_score\n",
    "logit_acc = accuracy_score(pred_logit, y_test)\n",
    "knn_acc = accuracy_score(pred_knn, y_test)\n",
    "tree_acc = accuracy_score(pred_tree, y_test)\n",
    "rf_acc = accuracy_score(pred_rf, y_test)\n",
    "\n",
    "print('logit:',logit_acc)\n",
    "print('knn:', knn_acc)\n",
    "print('tree:', tree_acc)\n",
    "print('rf:',rf_acc)"
   ]
  },
  {
   "cell_type": "markdown",
   "id": "15a6c6b5",
   "metadata": {},
   "source": [
    "Попробуем чуть-чуть пооптимизировать гиперпараметры:\n",
    "$\n",
    "logit - ничего \\\\\n",
    "knn - число \\: соседей \\\\\n",
    "tree - глубина, min\\_samples\\_split \\: и \\: \\_leaf \\\\\n",
    "rf - n\\_estimators$"
   ]
  },
  {
   "cell_type": "code",
   "execution_count": 10,
   "id": "851b5d5a",
   "metadata": {},
   "outputs": [
    {
     "data": {
      "text/plain": [
       "Text(0.5, 0, 'Число соседей')"
      ]
     },
     "execution_count": 10,
     "metadata": {},
     "output_type": "execute_result"
    },
    {
     "data": {
      "image/png": "[encoded data removed]",
      "text/plain": [
       "<Figure size 432x288 with 1 Axes>"
      ]
     },
     "metadata": {
      "needs_background": "light"
     },
     "output_type": "display_data"
    }
   ],
   "source": [
    "acc_score =[]\n",
    "it = []\n",
    "for k in range(2,30,2):\n",
    "    it.append(k)\n",
    "    clf_knn = KNeighborsClassifier(n_neighbors = k)\n",
    "    clf_knn.fit(X_train,y_train)\n",
    "    pred_knn = clf_knn.predict(X_test)\n",
    "    acc_score.append(accuracy_score(pred_knn,y_test))\n",
    "\n",
    "import matplotlib.pyplot as plt\n",
    "plt.plot(it,acc_score)\n",
    "plt.title('KNN: Точность от количества соседей')\n",
    "plt.xlabel('Число соседей')\n"
   ]
  },
  {
   "cell_type": "code",
   "execution_count": 11,
   "id": "f9d428f3",
   "metadata": {},
   "outputs": [
    {
     "data": {
      "text/html": [
       "<style>#sk-container-id-3 {color: black;background-color: white;}#sk-container-id-3 pre{padding: 0;}#sk-container-id-3 div.sk-toggleable {background-color: white;}#sk-container-id-3 label.sk-toggleable__label {cursor: pointer;display: block;width: 100%;margin-bottom: 0;padding: 0.3em;box-sizing: border-box;text-align: center;}#sk-container-id-3 label.sk-toggleable__label-arrow:before {content: \"▸\";float: left;margin-right: 0.25em;color: #696969;}#sk-container-id-3 label.sk-toggleable__label-arrow:hover:before {color: black;}#sk-container-id-3 div.sk-estimator:hover label.sk-toggleable__label-arrow:before {color: black;}#sk-container-id-3 div.sk-toggleable__content {max-height: 0;max-width: 0;overflow: hidden;text-align: left;background-color: #f0f8ff;}#sk-container-id-3 div.sk-toggleable__content pre {margin: 0.2em;color: black;border-radius: 0.25em;background-color: #f0f8ff;}#sk-container-id-3 input.sk-toggleable__control:checked~div.sk-toggleable__content {max-height: 200px;max-width: 100%;overflow: auto;}#sk-container-id-3 input.sk-toggleable__control:checked~label.sk-toggleable__label-arrow:before {content: \"▾\";}#sk-container-id-3 div.sk-estimator input.sk-toggleable__control:checked~label.sk-toggleable__label {background-color: #d4ebff;}#sk-container-id-3 div.sk-label input.sk-toggleable__control:checked~label.sk-toggleable__label {background-color: #d4ebff;}#sk-container-id-3 input.sk-hidden--visually {border: 0;clip: rect(1px 1px 1px 1px);clip: rect(1px, 1px, 1px, 1px);height: 1px;margin: -1px;overflow: hidden;padding: 0;position: absolute;width: 1px;}#sk-container-id-3 div.sk-estimator {font-family: monospace;background-color: #f0f8ff;border: 1px dotted black;border-radius: 0.25em;box-sizing: border-box;margin-bottom: 0.5em;}#sk-container-id-3 div.sk-estimator:hover {background-color: #d4ebff;}#sk-container-id-3 div.sk-parallel-item::after {content: \"\";width: 100%;border-bottom: 1px solid gray;flex-grow: 1;}#sk-container-id-3 div.sk-label:hover label.sk-toggleable__label {background-color: #d4ebff;}#sk-container-id-3 div.sk-serial::before {content: \"\";position: absolute;border-left: 1px solid gray;box-sizing: border-box;top: 0;bottom: 0;left: 50%;z-index: 0;}#sk-container-id-3 div.sk-serial {display: flex;flex-direction: column;align-items: center;background-color: white;padding-right: 0.2em;padding-left: 0.2em;position: relative;}#sk-container-id-3 div.sk-item {position: relative;z-index: 1;}#sk-container-id-3 div.sk-parallel {display: flex;align-items: stretch;justify-content: center;background-color: white;position: relative;}#sk-container-id-3 div.sk-item::before, #sk-container-id-3 div.sk-parallel-item::before {content: \"\";position: absolute;border-left: 1px solid gray;box-sizing: border-box;top: 0;bottom: 0;left: 50%;z-index: -1;}#sk-container-id-3 div.sk-parallel-item {display: flex;flex-direction: column;z-index: 1;position: relative;background-color: white;}#sk-container-id-3 div.sk-parallel-item:first-child::after {align-self: flex-end;width: 50%;}#sk-container-id-3 div.sk-parallel-item:last-child::after {align-self: flex-start;width: 50%;}#sk-container-id-3 div.sk-parallel-item:only-child::after {width: 0;}#sk-container-id-3 div.sk-dashed-wrapped {border: 1px dashed gray;margin: 0 0.4em 0.5em 0.4em;box-sizing: border-box;padding-bottom: 0.4em;background-color: white;}#sk-container-id-3 div.sk-label label {font-family: monospace;font-weight: bold;display: inline-block;line-height: 1.2em;}#sk-container-id-3 div.sk-label-container {text-align: center;}#sk-container-id-3 div.sk-container {/* jupyter's `normalize.less` sets `[hidden] { display: none; }` but bootstrap.min.css set `[hidden] { display: none !important; }` so we also need the `!important` here to be able to override the default hidden behavior on the sphinx rendered scikit-learn.org. See: https://github.com/scikit-learn/scikit-learn/issues/21755 */display: inline-block !important;position: relative;}#sk-container-id-3 div.sk-text-repr-fallback {display: none;}</style><div id=\"sk-container-id-3\" class=\"sk-top-container\"><div class=\"sk-text-repr-fallback\"><pre>KNeighborsClassifier(n_neighbors=10)</pre><b>In a Jupyter environment, please rerun this cell to show the HTML representation or trust the notebook. <br />On GitHub, the HTML representation is unable to render, please try loading this page with nbviewer.org.</b></div><div class=\"sk-container\" hidden><div class=\"sk-item\"><div class=\"sk-estimator sk-toggleable\"><input class=\"sk-toggleable__control sk-hidden--visually\" id=\"sk-estimator-id-3\" type=\"checkbox\" checked><label for=\"sk-estimator-id-3\" class=\"sk-toggleable__label sk-toggleable__label-arrow\">KNeighborsClassifier</label><div class=\"sk-toggleable__content\"><pre>KNeighborsClassifier(n_neighbors=10)</pre></div></div></div></div></div>"
      ],
      "text/plain": [
       "KNeighborsClassifier(n_neighbors=10)"
      ]
     },
     "execution_count": 11,
     "metadata": {},
     "output_type": "execute_result"
    }
   ],
   "source": [
    "from sklearn.model_selection import GridSearchCV\n",
    "clf_knn_new = KNeighborsClassifier()\n",
    "params_knn = {'n_neighbors':range(2,30,2)}\n",
    "\n",
    "knn_param = GridSearchCV(clf_knn_new,params_knn,cv = 5)\n",
    "knn_param.fit(X_train,y_train)\n",
    "knn_param.best_params_\n",
    "opt_clf_knn = knn_param.best_estimator_\n",
    "opt_clf_knn"
   ]
  },
  {
   "cell_type": "code",
   "execution_count": 15,
   "id": "312081ac",
   "metadata": {},
   "outputs": [
    {
     "data": {
      "text/html": [
       "<style>#sk-container-id-6 {color: black;background-color: white;}#sk-container-id-6 pre{padding: 0;}#sk-container-id-6 div.sk-toggleable {background-color: white;}#sk-container-id-6 label.sk-toggleable__label {cursor: pointer;display: block;width: 100%;margin-bottom: 0;padding: 0.3em;box-sizing: border-box;text-align: center;}#sk-container-id-6 label.sk-toggleable__label-arrow:before {content: \"▸\";float: left;margin-right: 0.25em;color: #696969;}#sk-container-id-6 label.sk-toggleable__label-arrow:hover:before {color: black;}#sk-container-id-6 div.sk-estimator:hover label.sk-toggleable__label-arrow:before {color: black;}#sk-container-id-6 div.sk-toggleable__content {max-height: 0;max-width: 0;overflow: hidden;text-align: left;background-color: #f0f8ff;}#sk-container-id-6 div.sk-toggleable__content pre {margin: 0.2em;color: black;border-radius: 0.25em;background-color: #f0f8ff;}#sk-container-id-6 input.sk-toggleable__control:checked~div.sk-toggleable__content {max-height: 200px;max-width: 100%;overflow: auto;}#sk-container-id-6 input.sk-toggleable__control:checked~label.sk-toggleable__label-arrow:before {content: \"▾\";}#sk-container-id-6 div.sk-estimator input.sk-toggleable__control:checked~label.sk-toggleable__label {background-color: #d4ebff;}#sk-container-id-6 div.sk-label input.sk-toggleable__control:checked~label.sk-toggleable__label {background-color: #d4ebff;}#sk-container-id-6 input.sk-hidden--visually {border: 0;clip: rect(1px 1px 1px 1px);clip: rect(1px, 1px, 1px, 1px);height: 1px;margin: -1px;overflow: hidden;padding: 0;position: absolute;width: 1px;}#sk-container-id-6 div.sk-estimator {font-family: monospace;background-color: #f0f8ff;border: 1px dotted black;border-radius: 0.25em;box-sizing: border-box;margin-bottom: 0.5em;}#sk-container-id-6 div.sk-estimator:hover {background-color: #d4ebff;}#sk-container-id-6 div.sk-parallel-item::after {content: \"\";width: 100%;border-bottom: 1px solid gray;flex-grow: 1;}#sk-container-id-6 div.sk-label:hover label.sk-toggleable__label {background-color: #d4ebff;}#sk-container-id-6 div.sk-serial::before {content: \"\";position: absolute;border-left: 1px solid gray;box-sizing: border-box;top: 0;bottom: 0;left: 50%;z-index: 0;}#sk-container-id-6 div.sk-serial {display: flex;flex-direction: column;align-items: center;background-color: white;padding-right: 0.2em;padding-left: 0.2em;position: relative;}#sk-container-id-6 div.sk-item {position: relative;z-index: 1;}#sk-container-id-6 div.sk-parallel {display: flex;align-items: stretch;justify-content: center;background-color: white;position: relative;}#sk-container-id-6 div.sk-item::before, #sk-container-id-6 div.sk-parallel-item::before {content: \"\";position: absolute;border-left: 1px solid gray;box-sizing: border-box;top: 0;bottom: 0;left: 50%;z-index: -1;}#sk-container-id-6 div.sk-parallel-item {display: flex;flex-direction: column;z-index: 1;position: relative;background-color: white;}#sk-container-id-6 div.sk-parallel-item:first-child::after {align-self: flex-end;width: 50%;}#sk-container-id-6 div.sk-parallel-item:last-child::after {align-self: flex-start;width: 50%;}#sk-container-id-6 div.sk-parallel-item:only-child::after {width: 0;}#sk-container-id-6 div.sk-dashed-wrapped {border: 1px dashed gray;margin: 0 0.4em 0.5em 0.4em;box-sizing: border-box;padding-bottom: 0.4em;background-color: white;}#sk-container-id-6 div.sk-label label {font-family: monospace;font-weight: bold;display: inline-block;line-height: 1.2em;}#sk-container-id-6 div.sk-label-container {text-align: center;}#sk-container-id-6 div.sk-container {/* jupyter's `normalize.less` sets `[hidden] { display: none; }` but bootstrap.min.css set `[hidden] { display: none !important; }` so we also need the `!important` here to be able to override the default hidden behavior on the sphinx rendered scikit-learn.org. See: https://github.com/scikit-learn/scikit-learn/issues/21755 */display: inline-block !important;position: relative;}#sk-container-id-6 div.sk-text-repr-fallback {display: none;}</style><div id=\"sk-container-id-6\" class=\"sk-top-container\"><div class=\"sk-text-repr-fallback\"><pre>DecisionTreeClassifier(criterion=&#x27;entropy&#x27;, max_depth=6, min_samples_split=16)</pre><b>In a Jupyter environment, please rerun this cell to show the HTML representation or trust the notebook. <br />On GitHub, the HTML representation is unable to render, please try loading this page with nbviewer.org.</b></div><div class=\"sk-container\" hidden><div class=\"sk-item\"><div class=\"sk-estimator sk-toggleable\"><input class=\"sk-toggleable__control sk-hidden--visually\" id=\"sk-estimator-id-6\" type=\"checkbox\" checked><label for=\"sk-estimator-id-6\" class=\"sk-toggleable__label sk-toggleable__label-arrow\">DecisionTreeClassifier</label><div class=\"sk-toggleable__content\"><pre>DecisionTreeClassifier(criterion=&#x27;entropy&#x27;, max_depth=6, min_samples_split=16)</pre></div></div></div></div></div>"
      ],
      "text/plain": [
       "DecisionTreeClassifier(criterion='entropy', max_depth=6, min_samples_split=16)"
      ]
     },
     "execution_count": 15,
     "metadata": {},
     "output_type": "execute_result"
    }
   ],
   "source": [
    "from sklearn.model_selection import GridSearchCV\n",
    "clf_tree_new = DecisionTreeClassifier(criterion = 'entropy')\n",
    "params = {'max_depth':range(2,50,2),'min_samples_split':range(2,20,2),'min_samples_leaf':range(1,10,2)}\n",
    "\n",
    "opt_tree_par = GridSearchCV(clf_tree_new,params,cv = 5)\n",
    "opt_tree_par.fit(X_train,y_train)\n",
    "opt_tree_par.best_params_\n",
    "opt_clf_tree = opt_tree_par.best_estimator_\n",
    "opt_clf_tree"
   ]
  },
  {
   "cell_type": "code",
   "execution_count": 16,
   "id": "57d33fb6",
   "metadata": {},
   "outputs": [
    {
     "data": {
      "text/html": [
       "<style>#sk-container-id-7 {color: black;background-color: white;}#sk-container-id-7 pre{padding: 0;}#sk-container-id-7 div.sk-toggleable {background-color: white;}#sk-container-id-7 label.sk-toggleable__label {cursor: pointer;display: block;width: 100%;margin-bottom: 0;padding: 0.3em;box-sizing: border-box;text-align: center;}#sk-container-id-7 label.sk-toggleable__label-arrow:before {content: \"▸\";float: left;margin-right: 0.25em;color: #696969;}#sk-container-id-7 label.sk-toggleable__label-arrow:hover:before {color: black;}#sk-container-id-7 div.sk-estimator:hover label.sk-toggleable__label-arrow:before {color: black;}#sk-container-id-7 div.sk-toggleable__content {max-height: 0;max-width: 0;overflow: hidden;text-align: left;background-color: #f0f8ff;}#sk-container-id-7 div.sk-toggleable__content pre {margin: 0.2em;color: black;border-radius: 0.25em;background-color: #f0f8ff;}#sk-container-id-7 input.sk-toggleable__control:checked~div.sk-toggleable__content {max-height: 200px;max-width: 100%;overflow: auto;}#sk-container-id-7 input.sk-toggleable__control:checked~label.sk-toggleable__label-arrow:before {content: \"▾\";}#sk-container-id-7 div.sk-estimator input.sk-toggleable__control:checked~label.sk-toggleable__label {background-color: #d4ebff;}#sk-container-id-7 div.sk-label input.sk-toggleable__control:checked~label.sk-toggleable__label {background-color: #d4ebff;}#sk-container-id-7 input.sk-hidden--visually {border: 0;clip: rect(1px 1px 1px 1px);clip: rect(1px, 1px, 1px, 1px);height: 1px;margin: -1px;overflow: hidden;padding: 0;position: absolute;width: 1px;}#sk-container-id-7 div.sk-estimator {font-family: monospace;background-color: #f0f8ff;border: 1px dotted black;border-radius: 0.25em;box-sizing: border-box;margin-bottom: 0.5em;}#sk-container-id-7 div.sk-estimator:hover {background-color: #d4ebff;}#sk-container-id-7 div.sk-parallel-item::after {content: \"\";width: 100%;border-bottom: 1px solid gray;flex-grow: 1;}#sk-container-id-7 div.sk-label:hover label.sk-toggleable__label {background-color: #d4ebff;}#sk-container-id-7 div.sk-serial::before {content: \"\";position: absolute;border-left: 1px solid gray;box-sizing: border-box;top: 0;bottom: 0;left: 50%;z-index: 0;}#sk-container-id-7 div.sk-serial {display: flex;flex-direction: column;align-items: center;background-color: white;padding-right: 0.2em;padding-left: 0.2em;position: relative;}#sk-container-id-7 div.sk-item {position: relative;z-index: 1;}#sk-container-id-7 div.sk-parallel {display: flex;align-items: stretch;justify-content: center;background-color: white;position: relative;}#sk-container-id-7 div.sk-item::before, #sk-container-id-7 div.sk-parallel-item::before {content: \"\";position: absolute;border-left: 1px solid gray;box-sizing: border-box;top: 0;bottom: 0;left: 50%;z-index: -1;}#sk-container-id-7 div.sk-parallel-item {display: flex;flex-direction: column;z-index: 1;position: relative;background-color: white;}#sk-container-id-7 div.sk-parallel-item:first-child::after {align-self: flex-end;width: 50%;}#sk-container-id-7 div.sk-parallel-item:last-child::after {align-self: flex-start;width: 50%;}#sk-container-id-7 div.sk-parallel-item:only-child::after {width: 0;}#sk-container-id-7 div.sk-dashed-wrapped {border: 1px dashed gray;margin: 0 0.4em 0.5em 0.4em;box-sizing: border-box;padding-bottom: 0.4em;background-color: white;}#sk-container-id-7 div.sk-label label {font-family: monospace;font-weight: bold;display: inline-block;line-height: 1.2em;}#sk-container-id-7 div.sk-label-container {text-align: center;}#sk-container-id-7 div.sk-container {/* jupyter's `normalize.less` sets `[hidden] { display: none; }` but bootstrap.min.css set `[hidden] { display: none !important; }` so we also need the `!important` here to be able to override the default hidden behavior on the sphinx rendered scikit-learn.org. See: https://github.com/scikit-learn/scikit-learn/issues/21755 */display: inline-block !important;position: relative;}#sk-container-id-7 div.sk-text-repr-fallback {display: none;}</style><div id=\"sk-container-id-7\" class=\"sk-top-container\"><div class=\"sk-text-repr-fallback\"><pre>RandomForestClassifier(max_depth=60, min_samples_leaf=3, min_samples_split=7,\n",
       "                       n_estimators=36)</pre><b>In a Jupyter environment, please rerun this cell to show the HTML representation or trust the notebook. <br />On GitHub, the HTML representation is unable to render, please try loading this page with nbviewer.org.</b></div><div class=\"sk-container\" hidden><div class=\"sk-item\"><div class=\"sk-estimator sk-toggleable\"><input class=\"sk-toggleable__control sk-hidden--visually\" id=\"sk-estimator-id-7\" type=\"checkbox\" checked><label for=\"sk-estimator-id-7\" class=\"sk-toggleable__label sk-toggleable__label-arrow\">RandomForestClassifier</label><div class=\"sk-toggleable__content\"><pre>RandomForestClassifier(max_depth=60, min_samples_leaf=3, min_samples_split=7,\n",
       "                       n_estimators=36)</pre></div></div></div></div></div>"
      ],
      "text/plain": [
       "RandomForestClassifier(max_depth=60, min_samples_leaf=3, min_samples_split=7,\n",
       "                       n_estimators=36)"
      ]
     },
     "execution_count": 16,
     "metadata": {},
     "output_type": "execute_result"
    }
   ],
   "source": [
    "from sklearn.model_selection import GridSearchCV\n",
    "clf_rf_new = RandomForestClassifier(max_depth=60, min_samples_leaf=3, min_samples_split=7)\n",
    "params = {'n_estimators':range(1,100,5)}\n",
    "\n",
    "opt_rf_par = GridSearchCV(clf_rf_new,params, cv = 5)\n",
    "opt_rf_par.fit(X_train,y_train)\n",
    "opt_rf_par.best_params_\n",
    "opt_clf_rf = opt_rf_par.best_estimator_\n",
    "opt_clf_rf"
   ]
  },
  {
   "cell_type": "markdown",
   "id": "3d2737d1",
   "metadata": {},
   "source": [
    "Я более-менее оптимизировал все, сейчас буду тестить. Только единственное, в случае Random Forest оптимизированное решение совершенно неустойчивое. То есть постоянно выдается разное число деревьев. Мб там точность более-менее близкая. Надо будет нарисовать потом"
   ]
  },
  {
   "cell_type": "markdown",
   "id": "46a3086a",
   "metadata": {},
   "source": [
    "Ну что - оптимизированные классификаторы есть, go тестить!"
   ]
  },
  {
   "cell_type": "code",
   "execution_count": 19,
   "id": "74c4aea7",
   "metadata": {},
   "outputs": [
    {
     "name": "stdout",
     "output_type": "stream",
     "text": [
      "logit: 0.7932203389830509\n",
      "knn: 0.6542372881355932\n",
      "tree: 0.823728813559322\n",
      "rf: 0.8271186440677966\n"
     ]
    }
   ],
   "source": [
    "# тестирование\n",
    "pred_logit = clf_logit.predict(X_test)\n",
    "pred_knn = opt_clf_knn.predict(X_test)\n",
    "pred_tree = opt_clf_tree.predict(X_test)\n",
    "pred_rf = opt_clf_rf.predict(X_test)\n",
    "\n",
    "#accuracy_score\n",
    "logit_acc = accuracy_score(pred_logit, y_test)\n",
    "knn_acc = accuracy_score(pred_knn, y_test)\n",
    "tree_acc = accuracy_score(pred_tree, y_test)\n",
    "rf_acc = accuracy_score(pred_rf, y_test)\n",
    "\n",
    "print('logit:',logit_acc)\n",
    "print('knn:', knn_acc)\n",
    "print('tree:', tree_acc)\n",
    "print('rf:',rf_acc)"
   ]
  },
  {
   "cell_type": "markdown",
   "id": "099507f5",
   "metadata": {},
   "source": [
    "Ха-ха, прикольно, оптимизированный rf смог дотянуться до logit. Пока они самые точные =)\n",
    "\n",
    "Чуть-чуть увеличилась точность у DecisionTree."
   ]
  },
  {
   "cell_type": "markdown",
   "id": "d7c800d9",
   "metadata": {},
   "source": [
    "-----"
   ]
  },
  {
   "cell_type": "markdown",
   "id": "fd2d1c92",
   "metadata": {},
   "source": [
    "Ниже я мучаюсь и пытаюсь добавить титулы\n",
    "\n",
    "И я смог!"
   ]
  },
  {
   "cell_type": "markdown",
   "id": "1ac0e2e1",
   "metadata": {},
   "source": [
    "Пытаюсь разобраться с тем, как устроены титулы"
   ]
  },
  {
   "cell_type": "code",
   "execution_count": 1,
   "id": "a32aa6cb",
   "metadata": {},
   "outputs": [
    {
     "data": {
      "text/plain": [
       "['Master',\n",
       " 'Dr',\n",
       " 'Rev',\n",
       " 'Mlle',\n",
       " 'Major',\n",
       " 'Col',\n",
       " 'th',\n",
       " 'Capt',\n",
       " 'Sir',\n",
       " 'Lady',\n",
       " 'Mme',\n",
       " 'Don',\n",
       " 'Jonkheer']"
      ]
     },
     "execution_count": 1,
     "metadata": {},
     "output_type": "execute_result"
    }
   ],
   "source": [
    "import numpy as np\n",
    "import pandas as pd\n",
    "from sklearn.linear_model import LogisticRegressionCV\n",
    "from sklearn.tree import DecisionTreeClassifier\n",
    "from sklearn.model_selection import GridSearchCV\n",
    "from sklearn.ensemble import RandomForestClassifier\n",
    "\n",
    "\n",
    "data_train = pd.read_csv('/Users/ilyanovikov/Desktop/titanic/train.csv')\n",
    "\n",
    "\n",
    "Name = data_train['Name']\n",
    "Name_surname_split = Name.str.split(', ')\n",
    "Surname = Name_surname_split.str[0]\n",
    "Names = Name_surname_split.str[1]\n",
    "title = Names.str.split('. ').str[0]\n",
    "\n",
    "check = title.value_counts().to_frame().reset_index().rename(columns = {'index':'title','Name':'count'})\n",
    "\n",
    "surv_title = check[(check.title != 'Mr') & (check.title != 'Miss') & (check.title != 'Mrs') & (check.title != 'Ms')]\n",
    "surv_title_list = surv_title['title'].to_list()\n",
    "surv_title_list\n",
    "#Name_surname.str[1].str.split('. ')"
   ]
  },
  {
   "cell_type": "code",
   "execution_count": 2,
   "id": "872e7235",
   "metadata": {},
   "outputs": [
    {
     "name": "stderr",
     "output_type": "stream",
     "text": [
      "/var/folders/sd/c8nwk4616hn2czh04yrmmqbh0000gn/T/ipykernel_99861/2675473866.py:6: SettingWithCopyWarning: \n",
      "A value is trying to be set on a copy of a slice from a DataFrame\n",
      "\n",
      "See the caveats in the documentation: https://pandas.pydata.org/pandas-docs/stable/user_guide/indexing.html#returning-a-view-versus-a-copy\n",
      "  data_train.Title[i] = 1\n"
     ]
    },
    {
     "data": {
      "text/html": [
       "<div>\n",
       "<style scoped>\n",
       "    .dataframe tbody tr th:only-of-type {\n",
       "        vertical-align: middle;\n",
       "    }\n",
       "\n",
       "    .dataframe tbody tr th {\n",
       "        vertical-align: top;\n",
       "    }\n",
       "\n",
       "    .dataframe thead th {\n",
       "        text-align: right;\n",
       "    }\n",
       "</style>\n",
       "<table border=\"1\" class=\"dataframe\">\n",
       "  <thead>\n",
       "    <tr style=\"text-align: right;\">\n",
       "      <th></th>\n",
       "      <th>Pclass</th>\n",
       "      <th>Age</th>\n",
       "      <th>Fare</th>\n",
       "      <th>Title</th>\n",
       "      <th>Sex_female</th>\n",
       "      <th>Family</th>\n",
       "    </tr>\n",
       "  </thead>\n",
       "  <tbody>\n",
       "    <tr>\n",
       "      <th>0</th>\n",
       "      <td>3</td>\n",
       "      <td>22.0</td>\n",
       "      <td>7.2500</td>\n",
       "      <td>0</td>\n",
       "      <td>0</td>\n",
       "      <td>1</td>\n",
       "    </tr>\n",
       "    <tr>\n",
       "      <th>1</th>\n",
       "      <td>1</td>\n",
       "      <td>38.0</td>\n",
       "      <td>71.2833</td>\n",
       "      <td>0</td>\n",
       "      <td>1</td>\n",
       "      <td>1</td>\n",
       "    </tr>\n",
       "    <tr>\n",
       "      <th>2</th>\n",
       "      <td>3</td>\n",
       "      <td>26.0</td>\n",
       "      <td>7.9250</td>\n",
       "      <td>0</td>\n",
       "      <td>1</td>\n",
       "      <td>0</td>\n",
       "    </tr>\n",
       "    <tr>\n",
       "      <th>3</th>\n",
       "      <td>1</td>\n",
       "      <td>35.0</td>\n",
       "      <td>53.1000</td>\n",
       "      <td>0</td>\n",
       "      <td>1</td>\n",
       "      <td>1</td>\n",
       "    </tr>\n",
       "    <tr>\n",
       "      <th>4</th>\n",
       "      <td>3</td>\n",
       "      <td>35.0</td>\n",
       "      <td>8.0500</td>\n",
       "      <td>0</td>\n",
       "      <td>0</td>\n",
       "      <td>0</td>\n",
       "    </tr>\n",
       "    <tr>\n",
       "      <th>5</th>\n",
       "      <td>3</td>\n",
       "      <td>28.0</td>\n",
       "      <td>8.4583</td>\n",
       "      <td>0</td>\n",
       "      <td>0</td>\n",
       "      <td>0</td>\n",
       "    </tr>\n",
       "    <tr>\n",
       "      <th>6</th>\n",
       "      <td>1</td>\n",
       "      <td>54.0</td>\n",
       "      <td>51.8625</td>\n",
       "      <td>0</td>\n",
       "      <td>0</td>\n",
       "      <td>0</td>\n",
       "    </tr>\n",
       "    <tr>\n",
       "      <th>7</th>\n",
       "      <td>3</td>\n",
       "      <td>2.0</td>\n",
       "      <td>21.0750</td>\n",
       "      <td>1</td>\n",
       "      <td>0</td>\n",
       "      <td>4</td>\n",
       "    </tr>\n",
       "    <tr>\n",
       "      <th>8</th>\n",
       "      <td>3</td>\n",
       "      <td>27.0</td>\n",
       "      <td>11.1333</td>\n",
       "      <td>0</td>\n",
       "      <td>1</td>\n",
       "      <td>2</td>\n",
       "    </tr>\n",
       "    <tr>\n",
       "      <th>9</th>\n",
       "      <td>2</td>\n",
       "      <td>14.0</td>\n",
       "      <td>30.0708</td>\n",
       "      <td>0</td>\n",
       "      <td>1</td>\n",
       "      <td>1</td>\n",
       "    </tr>\n",
       "    <tr>\n",
       "      <th>10</th>\n",
       "      <td>3</td>\n",
       "      <td>4.0</td>\n",
       "      <td>16.7000</td>\n",
       "      <td>0</td>\n",
       "      <td>1</td>\n",
       "      <td>2</td>\n",
       "    </tr>\n",
       "    <tr>\n",
       "      <th>11</th>\n",
       "      <td>1</td>\n",
       "      <td>58.0</td>\n",
       "      <td>26.5500</td>\n",
       "      <td>0</td>\n",
       "      <td>1</td>\n",
       "      <td>0</td>\n",
       "    </tr>\n",
       "    <tr>\n",
       "      <th>12</th>\n",
       "      <td>3</td>\n",
       "      <td>20.0</td>\n",
       "      <td>8.0500</td>\n",
       "      <td>0</td>\n",
       "      <td>0</td>\n",
       "      <td>0</td>\n",
       "    </tr>\n",
       "    <tr>\n",
       "      <th>13</th>\n",
       "      <td>3</td>\n",
       "      <td>39.0</td>\n",
       "      <td>31.2750</td>\n",
       "      <td>0</td>\n",
       "      <td>0</td>\n",
       "      <td>6</td>\n",
       "    </tr>\n",
       "    <tr>\n",
       "      <th>14</th>\n",
       "      <td>3</td>\n",
       "      <td>14.0</td>\n",
       "      <td>7.8542</td>\n",
       "      <td>0</td>\n",
       "      <td>1</td>\n",
       "      <td>0</td>\n",
       "    </tr>\n",
       "    <tr>\n",
       "      <th>15</th>\n",
       "      <td>2</td>\n",
       "      <td>55.0</td>\n",
       "      <td>16.0000</td>\n",
       "      <td>0</td>\n",
       "      <td>1</td>\n",
       "      <td>0</td>\n",
       "    </tr>\n",
       "    <tr>\n",
       "      <th>16</th>\n",
       "      <td>3</td>\n",
       "      <td>2.0</td>\n",
       "      <td>29.1250</td>\n",
       "      <td>1</td>\n",
       "      <td>0</td>\n",
       "      <td>5</td>\n",
       "    </tr>\n",
       "    <tr>\n",
       "      <th>17</th>\n",
       "      <td>2</td>\n",
       "      <td>28.0</td>\n",
       "      <td>13.0000</td>\n",
       "      <td>0</td>\n",
       "      <td>0</td>\n",
       "      <td>0</td>\n",
       "    </tr>\n",
       "    <tr>\n",
       "      <th>18</th>\n",
       "      <td>3</td>\n",
       "      <td>31.0</td>\n",
       "      <td>18.0000</td>\n",
       "      <td>0</td>\n",
       "      <td>1</td>\n",
       "      <td>1</td>\n",
       "    </tr>\n",
       "    <tr>\n",
       "      <th>19</th>\n",
       "      <td>3</td>\n",
       "      <td>28.0</td>\n",
       "      <td>7.2250</td>\n",
       "      <td>0</td>\n",
       "      <td>1</td>\n",
       "      <td>0</td>\n",
       "    </tr>\n",
       "  </tbody>\n",
       "</table>\n",
       "</div>"
      ],
      "text/plain": [
       "    Pclass   Age     Fare  Title  Sex_female  Family\n",
       "0        3  22.0   7.2500      0           0       1\n",
       "1        1  38.0  71.2833      0           1       1\n",
       "2        3  26.0   7.9250      0           1       0\n",
       "3        1  35.0  53.1000      0           1       1\n",
       "4        3  35.0   8.0500      0           0       0\n",
       "5        3  28.0   8.4583      0           0       0\n",
       "6        1  54.0  51.8625      0           0       0\n",
       "7        3   2.0  21.0750      1           0       4\n",
       "8        3  27.0  11.1333      0           1       2\n",
       "9        2  14.0  30.0708      0           1       1\n",
       "10       3   4.0  16.7000      0           1       2\n",
       "11       1  58.0  26.5500      0           1       0\n",
       "12       3  20.0   8.0500      0           0       0\n",
       "13       3  39.0  31.2750      0           0       6\n",
       "14       3  14.0   7.8542      0           1       0\n",
       "15       2  55.0  16.0000      0           1       0\n",
       "16       3   2.0  29.1250      1           0       5\n",
       "17       2  28.0  13.0000      0           0       0\n",
       "18       3  31.0  18.0000      0           1       1\n",
       "19       3  28.0   7.2250      0           1       0"
      ]
     },
     "execution_count": 2,
     "metadata": {},
     "output_type": "execute_result"
    }
   ],
   "source": [
    "\n",
    "\n",
    "# наконец-то я добавил колонку с титулами в исходные данные\n",
    "data_train['Title'] = 0\n",
    "for a in surv_title_list:        \n",
    "    for i in range (0, len(data_train)):\n",
    "        if data_train.loc[i,:].Name.split(', ')[1].split('. ')[0] == a:\n",
    "            data_train.Title[i] = 1\n",
    "\n",
    "        \n",
    "# сделаем ту же самую предобработку, что и в самый первый раз\n",
    "n_data_1 = data_train.drop(['Name','Ticket','PassengerId','Cabin','Embarked'],axis = 1) # первые три переменные исходя из\n",
    "#здравого смысла, Cabin - потому что там больше всего пропущено значений\n",
    "n_data_2 = pd.get_dummies(n_data_1).drop(['Sex_male'], axis = 1) # первые две фичи из-за мультиколлинеарности\n",
    "n_data_3 = n_data_2.fillna(n_data_2.Age.median())\n",
    "n_data_3['Family'] = n_data_3['Parch']+n_data_3['SibSp']\n",
    "n_data_4 = n_data_3.drop(['SibSp','Parch'], axis = 1)\n",
    "\n",
    "y = n_data_4.Survived\n",
    "X = n_data_4.drop(['Survived'], axis = 1)\n",
    "\n",
    "\n",
    "X.head(20)\n",
    "\n",
    "# Все X,y данные готовы, предобработка завершена"
   ]
  },
  {
   "cell_type": "markdown",
   "id": "90c1de26",
   "metadata": {},
   "source": [
    "Переходим к анализу данных. Оптимизирую модели на новых данных"
   ]
  },
  {
   "cell_type": "code",
   "execution_count": 7,
   "id": "0fc5acef",
   "metadata": {},
   "outputs": [
    {
     "name": "stdout",
     "output_type": "stream",
     "text": [
      "logit: 0.7611940298507462\n",
      "knn: 0.6977611940298507\n",
      "tree: 0.7761194029850746\n",
      "rf: 0.7835820895522388\n",
      "     Pclass   Age     Fare  Title  Sex_female  Family\n",
      "166       1  28.0  55.0000      0           1       1\n",
      "688       3  18.0   7.7958      0           0       0\n",
      "100       3  28.0   7.8958      0           1       0\n",
      "210       3  24.0   7.0500      0           0       0\n",
      "190       2  32.0  13.0000      0           1       0\n"
     ]
    }
   ],
   "source": [
    "from sklearn.model_selection import train_test_split\n",
    "from sklearn.metrics import accuracy_score\n",
    "\n",
    "from sklearn.linear_model import LogisticRegression\n",
    "from sklearn.neighbors import KNeighborsClassifier\n",
    "from sklearn.tree import DecisionTreeClassifier\n",
    "from sklearn.ensemble import RandomForestClassifier\n",
    "from sklearn.model_selection import GridSearchCV\n",
    "\n",
    "\n",
    "X_train, X_test, y_train, y_test = train_test_split(X,y, test_size=0.3)\n",
    "\n",
    "#инициализация и оптимизация классификаторов\n",
    "\n",
    "#logit\n",
    "clf_logit = LogisticRegression()\n",
    "clf_logit.fit(X_train,y_train)\n",
    "\n",
    "\n",
    "# KNN\n",
    "clf_knn_new = KNeighborsClassifier()\n",
    "params_knn = {'n_neighbors':range(2,30,2)}\n",
    "\n",
    "knn_param = GridSearchCV(clf_knn_new,params_knn,cv = 5)\n",
    "knn_param.fit(X_train,y_train)\n",
    "knn_param.best_params_\n",
    "opt_clf_knn = knn_param.best_estimator_\n",
    "opt_clf_knn\n",
    "\n",
    "#Tree\n",
    "clf_tree_new_ = DecisionTreeClassifier(criterion = 'entropy')\n",
    "params = {'max_depth':range(2,50,1),'min_samples_split':range(2,20,2)}\n",
    "\n",
    "opt_tree_par = GridSearchCV(clf_tree_new_,params,cv = 5)\n",
    "opt_tree_par.fit(X_train,y_train)\n",
    "opt_tree_par.best_params_\n",
    "opt_clf_tree = opt_tree_par.best_estimator_\n",
    "opt_clf_tree\n",
    "\n",
    "#RF\n",
    "clf_rf_new = RandomForestClassifier(max_depth = 50, min_samples_split=16)\n",
    "params = {'n_estimators':range(5,100,5)}\n",
    "\n",
    "opt_rf_par = GridSearchCV(clf_rf_new,params, cv = 5)\n",
    "opt_rf_par.fit(X_train,y_train)\n",
    "opt_rf_par.best_params_\n",
    "opt_clf_rf = opt_rf_par.best_estimator_\n",
    "opt_clf_rf\n",
    "\n",
    "\n",
    "# тестирование\n",
    "pred_logit = clf_logit.predict(X_test)\n",
    "pred_knn = opt_clf_knn.predict(X_test)\n",
    "pred_tree = opt_clf_tree.predict(X_test)\n",
    "pred_rf = opt_clf_rf.predict(X_test)\n",
    "\n",
    "#accuracy_score\n",
    "logit_acc = accuracy_score(pred_logit, y_test)\n",
    "knn_acc = accuracy_score(pred_knn, y_test)\n",
    "tree_acc = accuracy_score(pred_tree, y_test)\n",
    "rf_acc = accuracy_score(pred_rf, y_test)\n",
    "\n",
    "print('logit:',logit_acc)\n",
    "print('knn:', knn_acc)\n",
    "print('tree:', tree_acc)\n",
    "print('rf:',rf_acc)\n",
    "print(X_train.head(5))"
   ]
  },
  {
   "cell_type": "code",
   "execution_count": 8,
   "id": "94be174d",
   "metadata": {},
   "outputs": [
    {
     "data": {
      "text/plain": [
       "<AxesSubplot:ylabel='features'>"
      ]
     },
     "execution_count": 8,
     "metadata": {},
     "output_type": "execute_result"
    },
    {
     "data": {
      "image/png": "[encoded data removed]",
      "text/plain": [
       "<Figure size 432x288 with 1 Axes>"
      ]
     },
     "metadata": {
      "needs_background": "light"
     },
     "output_type": "display_data"
    }
   ],
   "source": [
    "f_imp = opt_clf_rf.feature_importances_\n",
    "feature_importances = pd.DataFrame({'features':list(X_train), 'importance':f_imp}).set_index('features')\n",
    "feature_importances.sort_values('importance').plot(kind = 'barh')\n"
   ]
  },
  {
   "cell_type": "code",
   "execution_count": 36,
   "id": "848a35b7",
   "metadata": {},
   "outputs": [
    {
     "data": {
      "text/html": [
       "<style>#sk-container-id-3 {color: black;background-color: white;}#sk-container-id-3 pre{padding: 0;}#sk-container-id-3 div.sk-toggleable {background-color: white;}#sk-container-id-3 label.sk-toggleable__label {cursor: pointer;display: block;width: 100%;margin-bottom: 0;padding: 0.3em;box-sizing: border-box;text-align: center;}#sk-container-id-3 label.sk-toggleable__label-arrow:before {content: \"▸\";float: left;margin-right: 0.25em;color: #696969;}#sk-container-id-3 label.sk-toggleable__label-arrow:hover:before {color: black;}#sk-container-id-3 div.sk-estimator:hover label.sk-toggleable__label-arrow:before {color: black;}#sk-container-id-3 div.sk-toggleable__content {max-height: 0;max-width: 0;overflow: hidden;text-align: left;background-color: #f0f8ff;}#sk-container-id-3 div.sk-toggleable__content pre {margin: 0.2em;color: black;border-radius: 0.25em;background-color: #f0f8ff;}#sk-container-id-3 input.sk-toggleable__control:checked~div.sk-toggleable__content {max-height: 200px;max-width: 100%;overflow: auto;}#sk-container-id-3 input.sk-toggleable__control:checked~label.sk-toggleable__label-arrow:before {content: \"▾\";}#sk-container-id-3 div.sk-estimator input.sk-toggleable__control:checked~label.sk-toggleable__label {background-color: #d4ebff;}#sk-container-id-3 div.sk-label input.sk-toggleable__control:checked~label.sk-toggleable__label {background-color: #d4ebff;}#sk-container-id-3 input.sk-hidden--visually {border: 0;clip: rect(1px 1px 1px 1px);clip: rect(1px, 1px, 1px, 1px);height: 1px;margin: -1px;overflow: hidden;padding: 0;position: absolute;width: 1px;}#sk-container-id-3 div.sk-estimator {font-family: monospace;background-color: #f0f8ff;border: 1px dotted black;border-radius: 0.25em;box-sizing: border-box;margin-bottom: 0.5em;}#sk-container-id-3 div.sk-estimator:hover {background-color: #d4ebff;}#sk-container-id-3 div.sk-parallel-item::after {content: \"\";width: 100%;border-bottom: 1px solid gray;flex-grow: 1;}#sk-container-id-3 div.sk-label:hover label.sk-toggleable__label {background-color: #d4ebff;}#sk-container-id-3 div.sk-serial::before {content: \"\";position: absolute;border-left: 1px solid gray;box-sizing: border-box;top: 0;bottom: 0;left: 50%;z-index: 0;}#sk-container-id-3 div.sk-serial {display: flex;flex-direction: column;align-items: center;background-color: white;padding-right: 0.2em;padding-left: 0.2em;position: relative;}#sk-container-id-3 div.sk-item {position: relative;z-index: 1;}#sk-container-id-3 div.sk-parallel {display: flex;align-items: stretch;justify-content: center;background-color: white;position: relative;}#sk-container-id-3 div.sk-item::before, #sk-container-id-3 div.sk-parallel-item::before {content: \"\";position: absolute;border-left: 1px solid gray;box-sizing: border-box;top: 0;bottom: 0;left: 50%;z-index: -1;}#sk-container-id-3 div.sk-parallel-item {display: flex;flex-direction: column;z-index: 1;position: relative;background-color: white;}#sk-container-id-3 div.sk-parallel-item:first-child::after {align-self: flex-end;width: 50%;}#sk-container-id-3 div.sk-parallel-item:last-child::after {align-self: flex-start;width: 50%;}#sk-container-id-3 div.sk-parallel-item:only-child::after {width: 0;}#sk-container-id-3 div.sk-dashed-wrapped {border: 1px dashed gray;margin: 0 0.4em 0.5em 0.4em;box-sizing: border-box;padding-bottom: 0.4em;background-color: white;}#sk-container-id-3 div.sk-label label {font-family: monospace;font-weight: bold;display: inline-block;line-height: 1.2em;}#sk-container-id-3 div.sk-label-container {text-align: center;}#sk-container-id-3 div.sk-container {/* jupyter's `normalize.less` sets `[hidden] { display: none; }` but bootstrap.min.css set `[hidden] { display: none !important; }` so we also need the `!important` here to be able to override the default hidden behavior on the sphinx rendered scikit-learn.org. See: https://github.com/scikit-learn/scikit-learn/issues/21755 */display: inline-block !important;position: relative;}#sk-container-id-3 div.sk-text-repr-fallback {display: none;}</style><div id=\"sk-container-id-3\" class=\"sk-top-container\"><div class=\"sk-text-repr-fallback\"><pre>DecisionTreeClassifier(criterion=&#x27;entropy&#x27;, max_depth=3)</pre><b>In a Jupyter environment, please rerun this cell to show the HTML representation or trust the notebook. <br />On GitHub, the HTML representation is unable to render, please try loading this page with nbviewer.org.</b></div><div class=\"sk-container\" hidden><div class=\"sk-item\"><div class=\"sk-estimator sk-toggleable\"><input class=\"sk-toggleable__control sk-hidden--visually\" id=\"sk-estimator-id-3\" type=\"checkbox\" checked><label for=\"sk-estimator-id-3\" class=\"sk-toggleable__label sk-toggleable__label-arrow\">DecisionTreeClassifier</label><div class=\"sk-toggleable__content\"><pre>DecisionTreeClassifier(criterion=&#x27;entropy&#x27;, max_depth=3)</pre></div></div></div></div></div>"
      ],
      "text/plain": [
       "DecisionTreeClassifier(criterion='entropy', max_depth=3)"
      ]
     },
     "execution_count": 36,
     "metadata": {},
     "output_type": "execute_result"
    }
   ],
   "source": [
    "opt_clf_tree"
   ]
  },
  {
   "cell_type": "markdown",
   "id": "f4ac757e",
   "metadata": {},
   "source": [
    "--------"
   ]
  },
  {
   "cell_type": "code",
   "execution_count": 98,
   "id": "d1fc9376",
   "metadata": {},
   "outputs": [
    {
     "data": {
      "text/html": [
       "<div>\n",
       "<style scoped>\n",
       "    .dataframe tbody tr th:only-of-type {\n",
       "        vertical-align: middle;\n",
       "    }\n",
       "\n",
       "    .dataframe tbody tr th {\n",
       "        vertical-align: top;\n",
       "    }\n",
       "\n",
       "    .dataframe thead th {\n",
       "        text-align: right;\n",
       "    }\n",
       "</style>\n",
       "<table border=\"1\" class=\"dataframe\">\n",
       "  <thead>\n",
       "    <tr style=\"text-align: right;\">\n",
       "      <th></th>\n",
       "      <th>Pclass</th>\n",
       "      <th>Age</th>\n",
       "      <th>Fare</th>\n",
       "      <th>Title</th>\n",
       "      <th>Sex_female</th>\n",
       "      <th>Embarked_Q</th>\n",
       "      <th>Embarked_S</th>\n",
       "      <th>Family</th>\n",
       "    </tr>\n",
       "  </thead>\n",
       "  <tbody>\n",
       "    <tr>\n",
       "      <th>492</th>\n",
       "      <td>1</td>\n",
       "      <td>55.0</td>\n",
       "      <td>30.5000</td>\n",
       "      <td>0</td>\n",
       "      <td>0</td>\n",
       "      <td>0</td>\n",
       "      <td>1</td>\n",
       "      <td>0</td>\n",
       "    </tr>\n",
       "    <tr>\n",
       "      <th>382</th>\n",
       "      <td>3</td>\n",
       "      <td>32.0</td>\n",
       "      <td>7.9250</td>\n",
       "      <td>0</td>\n",
       "      <td>0</td>\n",
       "      <td>0</td>\n",
       "      <td>1</td>\n",
       "      <td>0</td>\n",
       "    </tr>\n",
       "    <tr>\n",
       "      <th>176</th>\n",
       "      <td>3</td>\n",
       "      <td>28.0</td>\n",
       "      <td>25.4667</td>\n",
       "      <td>1</td>\n",
       "      <td>0</td>\n",
       "      <td>0</td>\n",
       "      <td>1</td>\n",
       "      <td>4</td>\n",
       "    </tr>\n",
       "    <tr>\n",
       "      <th>26</th>\n",
       "      <td>3</td>\n",
       "      <td>28.0</td>\n",
       "      <td>7.2250</td>\n",
       "      <td>0</td>\n",
       "      <td>0</td>\n",
       "      <td>0</td>\n",
       "      <td>0</td>\n",
       "      <td>0</td>\n",
       "    </tr>\n",
       "    <tr>\n",
       "      <th>765</th>\n",
       "      <td>1</td>\n",
       "      <td>51.0</td>\n",
       "      <td>77.9583</td>\n",
       "      <td>0</td>\n",
       "      <td>1</td>\n",
       "      <td>0</td>\n",
       "      <td>1</td>\n",
       "      <td>1</td>\n",
       "    </tr>\n",
       "  </tbody>\n",
       "</table>\n",
       "</div>"
      ],
      "text/plain": [
       "     Pclass   Age     Fare  Title  Sex_female  Embarked_Q  Embarked_S  Family\n",
       "492       1  55.0  30.5000      0           0           0           1       0\n",
       "382       3  32.0   7.9250      0           0           0           1       0\n",
       "176       3  28.0  25.4667      1           0           0           1       4\n",
       "26        3  28.0   7.2250      0           0           0           0       0\n",
       "765       1  51.0  77.9583      0           1           0           1       1"
      ]
     },
     "execution_count": 98,
     "metadata": {},
     "output_type": "execute_result"
    }
   ],
   "source": [
    "X_train.head()"
   ]
  },
  {
   "cell_type": "code",
   "execution_count": 652,
   "id": "3d7e4996",
   "metadata": {},
   "outputs": [
    {
     "name": "stdout",
     "output_type": "stream",
     "text": [
      "<class 'pandas.core.frame.DataFrame'>\n",
      "RangeIndex: 891 entries, 0 to 890\n",
      "Data columns (total 13 columns):\n",
      " #   Column       Non-Null Count  Dtype  \n",
      "---  ------       --------------  -----  \n",
      " 0   PassengerId  891 non-null    int64  \n",
      " 1   Survived     891 non-null    int64  \n",
      " 2   Pclass       891 non-null    int64  \n",
      " 3   Name         891 non-null    object \n",
      " 4   Sex          891 non-null    object \n",
      " 5   Age          714 non-null    float64\n",
      " 6   SibSp        891 non-null    int64  \n",
      " 7   Parch        891 non-null    int64  \n",
      " 8   Ticket       891 non-null    object \n",
      " 9   Fare         891 non-null    float64\n",
      " 10  Cabin        204 non-null    object \n",
      " 11  Embarked     889 non-null    object \n",
      " 12  Title        891 non-null    int64  \n",
      "dtypes: float64(2), int64(6), object(5)\n",
      "memory usage: 90.6+ KB\n"
     ]
    }
   ],
   "source": [
    "data_train.info()"
   ]
  },
  {
   "cell_type": "code",
   "execution_count": 658,
   "id": "99f29231",
   "metadata": {},
   "outputs": [
    {
     "data": {
      "text/plain": [
       "PassengerId    891\n",
       "Survived         2\n",
       "Pclass           3\n",
       "Name           891\n",
       "Sex              2\n",
       "SibSp            7\n",
       "Parch            7\n",
       "Ticket         681\n",
       "Embarked         3\n",
       "Title            2\n",
       "dtype: int64"
      ]
     },
     "execution_count": 658,
     "metadata": {},
     "output_type": "execute_result"
    }
   ],
   "source": [
    "data_train.drop(['Age','Fare','Cabin'],axis = 1).nunique()"
   ]
  },
  {
   "cell_type": "code",
   "execution_count": 663,
   "id": "9b9f24ab",
   "metadata": {},
   "outputs": [
    {
     "data": {
      "text/plain": [
       "(891, 13)"
      ]
     },
     "execution_count": 663,
     "metadata": {},
     "output_type": "execute_result"
    }
   ],
   "source": [
    "data_train.shape"
   ]
  },
  {
   "cell_type": "code",
   "execution_count": 664,
   "id": "610915d4",
   "metadata": {},
   "outputs": [
    {
     "data": {
      "text/plain": [
       "count    714.000000\n",
       "mean      29.699118\n",
       "std       14.526497\n",
       "min        0.420000\n",
       "25%       20.125000\n",
       "50%       28.000000\n",
       "75%       38.000000\n",
       "max       80.000000\n",
       "Name: Age, dtype: float64"
      ]
     },
     "execution_count": 664,
     "metadata": {},
     "output_type": "execute_result"
    }
   ],
   "source": [
    "data_train['Age'].describe()"
   ]
  },
  {
   "cell_type": "markdown",
   "id": "e0e1ed2d",
   "metadata": {},
   "source": [
    "-------------"
   ]
  },
  {
   "cell_type": "markdown",
   "id": "ad4a4932",
   "metadata": {},
   "source": [
    "Здесь была предобработка: \n",
    "1. Добавил титулы \n",
    "2. Выбросил Name, Ticket, PassengerId, Cabin \n",
    "3. Cделал get_dummies (one-hot encoding) и убрал коллинеарные переменные (Sex_male, Embarked_C, Embarked_Q, Embarked_S)\n",
    "4. Заполнил NA-значения в колонке Age медианным\n",
    "5. Добавил колонку Family = Parch + SibSp, убрал отдельные колонки Parch и SibSp"
   ]
  },
  {
   "cell_type": "code",
   "execution_count": 11,
   "id": "f7c9317d",
   "metadata": {},
   "outputs": [
    {
     "data": {
      "application/vnd.jupyter.widget-view+json": {
       "model_id": "edb8416ab92b4b1f8686669b87b8014d",
       "version_major": 2,
       "version_minor": 0
      },
      "text/plain": [
       "MetricVisualizer(layout=Layout(align_self='stretch', height='500px'))"
      ]
     },
     "metadata": {},
     "output_type": "display_data"
    },
    {
     "name": "stdout",
     "output_type": "stream",
     "text": [
      "Learning rate set to 0.028193\n",
      "0:\tlearn: 0.6756524\ttest: 0.6777677\tbest: 0.6777677 (0)\ttotal: 1.61ms\tremaining: 1.6s\n",
      "50:\tlearn: 0.3893106\ttest: 0.4756832\tbest: 0.4756832 (50)\ttotal: 59.3ms\tremaining: 1.1s\n",
      "100:\tlearn: 0.3505333\ttest: 0.4616651\tbest: 0.4615276 (91)\ttotal: 118ms\tremaining: 1.05s\n",
      "150:\tlearn: 0.3322154\ttest: 0.4607139\tbest: 0.4598096 (132)\ttotal: 174ms\tremaining: 978ms\n",
      "200:\tlearn: 0.3176271\ttest: 0.4622456\tbest: 0.4598096 (132)\ttotal: 241ms\tremaining: 957ms\n",
      "250:\tlearn: 0.3066459\ttest: 0.4641601\tbest: 0.4598096 (132)\ttotal: 303ms\tremaining: 903ms\n",
      "300:\tlearn: 0.2954502\ttest: 0.4640743\tbest: 0.4598096 (132)\ttotal: 357ms\tremaining: 829ms\n",
      "350:\tlearn: 0.2761015\ttest: 0.4656565\tbest: 0.4598096 (132)\ttotal: 411ms\tremaining: 760ms\n",
      "400:\tlearn: 0.2586961\ttest: 0.4695793\tbest: 0.4598096 (132)\ttotal: 470ms\tremaining: 702ms\n",
      "450:\tlearn: 0.2445216\ttest: 0.4702638\tbest: 0.4598096 (132)\ttotal: 522ms\tremaining: 635ms\n",
      "500:\tlearn: 0.2310959\ttest: 0.4725888\tbest: 0.4598096 (132)\ttotal: 576ms\tremaining: 573ms\n",
      "550:\tlearn: 0.2206936\ttest: 0.4731460\tbest: 0.4598096 (132)\ttotal: 625ms\tremaining: 509ms\n",
      "600:\tlearn: 0.2106778\ttest: 0.4750765\tbest: 0.4598096 (132)\ttotal: 684ms\tremaining: 454ms\n",
      "650:\tlearn: 0.2017266\ttest: 0.4771978\tbest: 0.4598096 (132)\ttotal: 743ms\tremaining: 398ms\n",
      "700:\tlearn: 0.1949483\ttest: 0.4774365\tbest: 0.4598096 (132)\ttotal: 806ms\tremaining: 344ms\n",
      "750:\tlearn: 0.1885471\ttest: 0.4780344\tbest: 0.4598096 (132)\ttotal: 869ms\tremaining: 288ms\n",
      "800:\tlearn: 0.1827975\ttest: 0.4802064\tbest: 0.4598096 (132)\ttotal: 941ms\tremaining: 234ms\n",
      "850:\tlearn: 0.1758252\ttest: 0.4834797\tbest: 0.4598096 (132)\ttotal: 1s\tremaining: 176ms\n",
      "900:\tlearn: 0.1704836\ttest: 0.4851040\tbest: 0.4598096 (132)\ttotal: 1.06s\tremaining: 117ms\n",
      "950:\tlearn: 0.1636883\ttest: 0.4893128\tbest: 0.4598096 (132)\ttotal: 1.12s\tremaining: 58ms\n",
      "999:\tlearn: 0.1582865\ttest: 0.4943754\tbest: 0.4598096 (132)\ttotal: 1.18s\tremaining: 0us\n",
      "\n",
      "bestTest = 0.4598095792\n",
      "bestIteration = 132\n",
      "\n",
      "Shrink model to first 133 iterations.\n",
      "0.7910447761194029\n"
     ]
    }
   ],
   "source": [
    "from catboost import CatBoostClassifier\n",
    "categories_indices = list([0,3,4,5])\n",
    "#categories_indices = list([0,3,4])\n",
    "\n",
    "boost_clf = CatBoostClassifier(iterations= 1000,random_seed=10, max_depth = 5)\n",
    "boost_clf.fit(X_train,y_train, eval_set = (X_test,y_test), cat_features=categories_indices, verbose = 50, plot = True)\n",
    "pred_boost = boost_clf.predict(X_test)\n",
    "\n",
    "\n",
    "boost_acc = accuracy_score(pred_boost, y_test)\n",
    "print(boost_acc)\n",
    "\n"
   ]
  },
  {
   "cell_type": "code",
   "execution_count": 41,
   "id": "808bc009",
   "metadata": {},
   "outputs": [
    {
     "name": "stdout",
     "output_type": "stream",
     "text": [
      "<class 'pandas.core.frame.DataFrame'>\n",
      "Int64Index: 623 entries, 857 to 684\n",
      "Data columns (total 6 columns):\n",
      " #   Column      Non-Null Count  Dtype  \n",
      "---  ------      --------------  -----  \n",
      " 0   Pclass      623 non-null    int64  \n",
      " 1   Age         623 non-null    float64\n",
      " 2   Fare        623 non-null    float64\n",
      " 3   Title       623 non-null    int64  \n",
      " 4   Sex_female  623 non-null    uint8  \n",
      " 5   Family      623 non-null    int64  \n",
      "dtypes: float64(2), int64(3), uint8(1)\n",
      "memory usage: 29.8 KB\n"
     ]
    }
   ],
   "source": [
    "X_train.info()"
   ]
  },
  {
   "cell_type": "markdown",
   "id": "0f4368ce",
   "metadata": {},
   "source": [
    "------"
   ]
  },
  {
   "cell_type": "markdown",
   "id": "09be333f",
   "metadata": {},
   "source": [
    "А вот тут другая предобработка. Тк Catboost сам разбирается с категориальными переменными (one-hot encoding не нужен), то я не делал get_dummies. Тем нее менее мне:\n",
    "\n",
    "- пришлось перевести данные типа object в string \n",
    "- заполнить пропущенные значения"
   ]
  },
  {
   "cell_type": "code",
   "execution_count": 66,
   "id": "ba29c41f",
   "metadata": {},
   "outputs": [
    {
     "name": "stderr",
     "output_type": "stream",
     "text": [
      "/var/folders/sd/c8nwk4616hn2czh04yrmmqbh0000gn/T/ipykernel_99006/136464711.py:17: SettingWithCopyWarning: \n",
      "A value is trying to be set on a copy of a slice from a DataFrame\n",
      "\n",
      "See the caveats in the documentation: https://pandas.pydata.org/pandas-docs/stable/user_guide/indexing.html#returning-a-view-versus-a-copy\n",
      "  data_train.Title[i] = 1\n"
     ]
    },
    {
     "name": "stdout",
     "output_type": "stream",
     "text": [
      "     Pclass   Sex   Age     Fare  Title  Family\n",
      "464       3  male  28.0   8.0500      0       0\n",
      "451       3  male  28.0  19.9667      0       1\n",
      "62        1  male  45.0  83.4750      0       1\n",
      "705       2  male  39.0  26.0000      0       0\n",
      "712       1  male  48.0  52.0000      0       1\n",
      "Learning rate set to 0.028193\n",
      "0:\tlearn: 0.6761786\ttest: 0.6752033\tbest: 0.6752033 (0)\ttotal: 2.44ms\tremaining: 2.44s\n",
      "50:\tlearn: 0.4075608\ttest: 0.4086326\tbest: 0.4085448 (49)\ttotal: 55.9ms\tremaining: 1.04s\n",
      "100:\tlearn: 0.3716336\ttest: 0.3919749\tbest: 0.3918115 (99)\ttotal: 106ms\tremaining: 940ms\n",
      "150:\tlearn: 0.3517454\ttest: 0.3885616\tbest: 0.3884514 (148)\ttotal: 158ms\tremaining: 888ms\n",
      "200:\tlearn: 0.3354514\ttest: 0.3881787\tbest: 0.3876744 (194)\ttotal: 219ms\tremaining: 871ms\n",
      "250:\tlearn: 0.3224743\ttest: 0.3880299\tbest: 0.3876744 (194)\ttotal: 279ms\tremaining: 833ms\n",
      "300:\tlearn: 0.3012075\ttest: 0.3878115\tbest: 0.3876166 (298)\ttotal: 335ms\tremaining: 779ms\n",
      "350:\tlearn: 0.2856300\ttest: 0.3884125\tbest: 0.3866995 (315)\ttotal: 392ms\tremaining: 725ms\n",
      "400:\tlearn: 0.2683794\ttest: 0.3895351\tbest: 0.3866995 (315)\ttotal: 465ms\tremaining: 694ms\n",
      "450:\tlearn: 0.2528347\ttest: 0.3897354\tbest: 0.3866995 (315)\ttotal: 533ms\tremaining: 649ms\n",
      "500:\tlearn: 0.2407589\ttest: 0.3924498\tbest: 0.3866995 (315)\ttotal: 596ms\tremaining: 594ms\n",
      "550:\tlearn: 0.2277298\ttest: 0.3935030\tbest: 0.3866995 (315)\ttotal: 660ms\tremaining: 538ms\n",
      "600:\tlearn: 0.2172894\ttest: 0.3971696\tbest: 0.3866995 (315)\ttotal: 723ms\tremaining: 480ms\n",
      "650:\tlearn: 0.2091663\ttest: 0.3989702\tbest: 0.3866995 (315)\ttotal: 779ms\tremaining: 417ms\n",
      "700:\tlearn: 0.2003726\ttest: 0.4000951\tbest: 0.3866995 (315)\ttotal: 834ms\tremaining: 356ms\n",
      "750:\tlearn: 0.1914226\ttest: 0.4042678\tbest: 0.3866995 (315)\ttotal: 899ms\tremaining: 298ms\n",
      "800:\tlearn: 0.1845219\ttest: 0.4031929\tbest: 0.3866995 (315)\ttotal: 956ms\tremaining: 237ms\n",
      "850:\tlearn: 0.1779349\ttest: 0.4021897\tbest: 0.3866995 (315)\ttotal: 1.01s\tremaining: 178ms\n",
      "900:\tlearn: 0.1712825\ttest: 0.4042568\tbest: 0.3866995 (315)\ttotal: 1.08s\tremaining: 119ms\n",
      "950:\tlearn: 0.1649253\ttest: 0.4068168\tbest: 0.3866995 (315)\ttotal: 1.17s\tremaining: 60.1ms\n",
      "999:\tlearn: 0.1596789\ttest: 0.4087870\tbest: 0.3866995 (315)\ttotal: 1.25s\tremaining: 0us\n",
      "\n",
      "bestTest = 0.386699547\n",
      "bestIteration = 315\n",
      "\n",
      "Shrink model to first 316 iterations.\n",
      "0.8544776119402985\n"
     ]
    }
   ],
   "source": [
    "Name = data_train['Name']\n",
    "Name_surname_split = Name.str.split(', ')\n",
    "Surname = Name_surname_split.str[0]\n",
    "Names = Name_surname_split.str[1]\n",
    "title = Names.str.split('. ').str[0]\n",
    "\n",
    "check = title.value_counts().to_frame().reset_index().rename(columns = {'index':'title','Name':'count'})\n",
    "\n",
    "surv_title = check[(check.title != 'Mr') & (check.title != 'Miss') & (check.title != 'Mrs') & (check.title != 'Ms')]\n",
    "surv_title_list = surv_title['title'].to_list()\n",
    "\n",
    "\n",
    "data_train['Title'] = 0\n",
    "for a in surv_title_list:        \n",
    "    for i in range (0, len(data_train)):\n",
    "        if data_train.loc[i,:].Name.split(', ')[1].split('. ')[0] == a:\n",
    "            data_train.Title[i] = 1\n",
    "\n",
    "\n",
    "t_data_1 = data_train.drop(['Name','Ticket','PassengerId','Cabin','Embarked'],axis = 1) \n",
    "t_data_1['Family'] = t_data_1['Parch']+t_data_1['SibSp']\n",
    "t_data_2 = t_data_1.drop(['SibSp','Parch'], axis = 1)\n",
    "t_data_2['Sex'] = t_data_2['Sex'].astype('string')\n",
    "#t_data_2['Embarked'] = t_data_2['Embarked'].astype('string')\n",
    "t_data_2['Age'] = t_data_2['Age'].fillna(t_data_2.Age.median())\n",
    "#t_data_2['Embarked'] = t_data_2['Embarked'].fillna('S')\n",
    "\n",
    "\n",
    "yt = t_data_2.Survived\n",
    "Xt = t_data_2.drop(['Survived'], axis = 1)\n",
    "\n",
    "Xt_train, Xt_test, yt_train, yt_test = train_test_split(Xt,yt, test_size=0.3, random_state=41)\n",
    "\n",
    "print(Xt_train.head(5))\n",
    "\n",
    "# CatBoost сам разбирается с категориальными переменными (это его фишка), то есть one-hot encoding не нужен\n",
    "# Хотя я и задолбался переводить все в строки и заполнять NA-значения\n",
    "cat_feat_indices = list([0,1,4])\n",
    "test_boost_clf = CatBoostClassifier()\n",
    "test_boost_clf.fit(Xt_train,yt_train, eval_set =(Xt_test,yt_test), cat_features = cat_feat_indices, verbose = 50)\n",
    "self_boost_pred = test_boost_clf.predict(Xt_test)\n",
    "self_boost_acc = accuracy_score(self_boost_pred,yt_test)\n",
    "print(self_boost_acc)\n"
   ]
  },
  {
   "cell_type": "markdown",
   "id": "17981173",
   "metadata": {},
   "source": [
    "А тут я делал Grid_search, но он оказался бесполезен. Модель просто минимизирует функцию потерь на обучающей выборке. Это ерунда, нужна хоть какая-нибудь валидация. Хотя вроде пишут, что она есть."
   ]
  },
  {
   "cell_type": "code",
   "execution_count": 2,
   "id": "0691316f",
   "metadata": {},
   "outputs": [],
   "source": [
    "# from catboost import CatBoostClassifier, Pool\n",
    "\n",
    "# search_boost_clf = CatBoostClassifier()\n",
    "# cat_feat_indices = list([0,1,2,5,6,7]) # обязательно ему указывать, что является категориальными переменными\n",
    "# pool_train = Pool(t_data_2, label = t_data_2.Survived, cat_features=cat_feat_indices)\n",
    "\n",
    "# params ={'max_depth':range(2,11,2),'iterations':range(1,501,50),'learning_rate':[0.01,0.03,0.05,0.07]}\n",
    "# search_boost_clf.grid_search(params, pool_train,verbose = False, plot = True)"
   ]
  },
  {
   "cell_type": "code",
   "execution_count": 30,
   "id": "1ba0dddd",
   "metadata": {},
   "outputs": [
    {
     "data": {
      "text/plain": [
       "'8.0.2'"
      ]
     },
     "execution_count": 30,
     "metadata": {},
     "output_type": "execute_result"
    }
   ],
   "source": [
    "import ipywidgets\n",
    "ipywidgets.__version__"
   ]
  },
  {
   "cell_type": "markdown",
   "id": "313967e5",
   "metadata": {},
   "source": [
    "Надо сформировать файл с предсказаниями"
   ]
  },
  {
   "cell_type": "code",
   "execution_count": 19,
   "id": "2f5f1701",
   "metadata": {},
   "outputs": [
    {
     "name": "stderr",
     "output_type": "stream",
     "text": [
      "/var/folders/sd/c8nwk4616hn2czh04yrmmqbh0000gn/T/ipykernel_99006/2917510366.py:8: SettingWithCopyWarning: \n",
      "A value is trying to be set on a copy of a slice from a DataFrame\n",
      "\n",
      "See the caveats in the documentation: https://pandas.pydata.org/pandas-docs/stable/user_guide/indexing.html#returning-a-view-versus-a-copy\n",
      "  data_to_test.Title[i] = 1\n"
     ]
    }
   ],
   "source": [
    "data_to_test = pd.read_csv('/Users/ilyanovikov/Desktop/titanic/test.csv')\n",
    "\n",
    "# предобработка similar to та, что делали с train-данными\n",
    "data_to_test['Title'] = 0\n",
    "for a in surv_title_list:        \n",
    "    for i in range (0, len(data_to_test)):\n",
    "        if data_to_test.loc[i,:].Name.split(', ')[1].split('. ')[0] == a:\n",
    "            data_to_test.Title[i] = 1\n",
    "\n",
    "data_to_test['Family'] = data_to_test['Parch']+ data_to_test['SibSp']\n",
    "data_to_test['Age'] = data_to_test['Age'].fillna(data_to_test.Age.median())\n",
    "data_to_test['Fare'] = data_to_test['Fare'].fillna(data_to_test.Fare.median())\n",
    "data_to_test_2 = data_to_test.drop(['PassengerId','Name','Ticket','Cabin','Embarked','Parch','SibSp'], axis = 1)\n",
    "data_to_test_3 = pd.get_dummies(data_to_test_2).drop(['Sex_male'], axis = 1) # почему-то даже с one-hot encoding бустинг себя лучше показывает\n",
    "data_to_test_4 = data_to_test_3[['Pclass','Age','Fare','Title','Sex_female','Family']]\n",
    "X_to_test = data_to_test_4\n",
    "#предобработка завершена\n",
    "\n",
    "#lets go...\n",
    "\n",
    "pred_o_logit = clf_logit.predict(X_to_test)\n",
    "pred_opt_tree = opt_clf_tree.predict(X_to_test)\n",
    "pred_opt_rf = opt_clf_rf.predict(X_to_test)\n",
    "pred_boost = boost_clf.predict(X_to_test)\n",
    "\n",
    "#pred_test_boost = test_boost_clf.predict(X_to_test)\n",
    "\n",
    "\n",
    "opt_logit_pred_df = pd.DataFrame({'PassengerId':data_to_test.PassengerId,'Survived':pred_o_logit}).set_index('PassengerId')\n",
    "opt_logit_pred_df.to_csv('/Users/ilyanovikov/Desktop/Opt_logit_pred.csv')\n",
    "\n",
    "#opt_tree_pred_df = pd.DataFrame({'PassengerId':data_to_test.PassengerId,'Survived':pred_opt_tree}).set_index('PassengerId')\n",
    "#opt_tree_pred_df.to_csv('/Users/ilyanovikov/Desktop/Opt_tree_pred.csv')\n",
    "#opt_rf_pred_df = pd.DataFrame({'PassengerId':data_to_test.PassengerId,'Survived':pred_opt_rf}).set_index('PassengerId')\n",
    "#opt_rf_pred_df.to_csv('/Users/ilyanovikov/Desktop/Opt_rf_pred.csv')\n",
    "#opt_boost_pred_df = pd.DataFrame({'PassengerId':data_to_test.PassengerId,'Survived':pred_boost}).set_index('PassengerId')\n",
    "#opt_boost_pred_df.to_csv('/Users/ilyanovikov/Desktop/Opt_boost_pred.csv')\n",
    "\n"
   ]
  },
  {
   "cell_type": "code",
   "execution_count": 83,
   "id": "c059455b",
   "metadata": {},
   "outputs": [
    {
     "name": "stdout",
     "output_type": "stream",
     "text": [
      "{'iterations': 1000, 'random_seed': 10, 'max_depth': 5}\n",
      "{'bootstrap': True, 'ccp_alpha': 0.0, 'class_weight': None, 'criterion': 'gini', 'max_depth': 50, 'max_features': 'sqrt', 'max_leaf_nodes': None, 'max_samples': None, 'min_impurity_decrease': 0.0, 'min_samples_leaf': 1, 'min_samples_split': 16, 'min_weight_fraction_leaf': 0.0, 'n_estimators': 25, 'n_jobs': None, 'oob_score': False, 'random_state': None, 'verbose': 0, 'warm_start': False}\n"
     ]
    }
   ],
   "source": [
    "print(boost_clf.get_params())\n",
    "print(opt_clf_rf.get_params())"
   ]
  },
  {
   "cell_type": "markdown",
   "id": "1768b4a2",
   "metadata": {},
   "source": [
    "Просто ради интереса сделаю неоптимизированный LightGBM"
   ]
  },
  {
   "cell_type": "code",
   "execution_count": 22,
   "id": "a42f9f95",
   "metadata": {},
   "outputs": [],
   "source": [
    "\n",
    "import lightgbm as lgb\n",
    "light_clf = lgb.LGBMClassifier()\n",
    "light_clf.fit(X_train, y_train)\n",
    "\n",
    "light_pred = light_clf.predict(X_test)\n",
    "light_acc = accuracy_score(light_pred,y_test)\n",
    "\n",
    "light_boost = light_clf.predict(X_to_test)\n",
    "\n",
    "opt_light_pred_df = pd.DataFrame({'PassengerId':data_to_test.PassengerId,'Survived':light_boost}).set_index('PassengerId')\n",
    "opt_light_pred_df.to_csv('/Users/ilyanovikov/Desktop/Opt_light_pred.csv')"
   ]
  },
  {
   "cell_type": "markdown",
   "id": "bdf10a87",
   "metadata": {},
   "source": [
    "Проверил, что в итоговый файл все нормально записывается"
   ]
  },
  {
   "cell_type": "code",
   "execution_count": 37,
   "id": "2c7332c0",
   "metadata": {},
   "outputs": [
    {
     "ename": "SyntaxError",
     "evalue": "invalid syntax (1340586862.py, line 1)",
     "output_type": "error",
     "traceback": [
      "\u001b[0;36m  File \u001b[0;32m\"/var/folders/sd/c8nwk4616hn2czh04yrmmqbh0000gn/T/ipykernel_99006/1340586862.py\"\u001b[0;36m, line \u001b[0;32m1\u001b[0m\n\u001b[0;31m    a =\u001b[0m\n\u001b[0m        ^\u001b[0m\n\u001b[0;31mSyntaxError\u001b[0m\u001b[0;31m:\u001b[0m invalid syntax\n"
     ]
    }
   ],
   "source": [
    "a = \n",
    "check_file = pd.read_csv('/Users/ilyanovikov/Desktop/Opt_light_pred.csv')\n",
    "check_file.shape\n",
    "print(check_file.head(10))\n",
    "light_boost\n"
   ]
  },
  {
   "cell_type": "code",
   "execution_count": null,
   "id": "0a6e78b3",
   "metadata": {},
   "outputs": [],
   "source": []
  },
  {
   "cell_type": "code",
   "execution_count": 67,
   "id": "92638c0a",
   "metadata": {},
   "outputs": [
    {
     "name": "stderr",
     "output_type": "stream",
     "text": [
      "/var/folders/sd/c8nwk4616hn2czh04yrmmqbh0000gn/T/ipykernel_99006/685709904.py:8: SettingWithCopyWarning: \n",
      "A value is trying to be set on a copy of a slice from a DataFrame\n",
      "\n",
      "See the caveats in the documentation: https://pandas.pydata.org/pandas-docs/stable/user_guide/indexing.html#returning-a-view-versus-a-copy\n",
      "  data_to_test_CB.Title[i] = 1\n"
     ]
    },
    {
     "name": "stdout",
     "output_type": "stream",
     "text": [
      "(418, 2)\n",
      "   PassengerId  Survived\n",
      "0          892         0\n",
      "1          893         0\n",
      "2          894         0\n",
      "3          895         0\n",
      "4          896         1\n"
     ]
    }
   ],
   "source": [
    "data_to_test_CB = pd.read_csv('/Users/ilyanovikov/Desktop/titanic/test.csv')\n",
    "\n",
    "\n",
    "data_to_test_CB['Title'] = 0\n",
    "for a in surv_title_list:        \n",
    "    for i in range (0, len(data_to_test_CB)):\n",
    "        if data_to_test_CB.loc[i,:].Name.split(', ')[1].split('. ')[0] == a:\n",
    "            data_to_test_CB.Title[i] = 1\n",
    "\n",
    "\n",
    "CB_data_1 = data_to_test_CB.drop(['Name','Ticket','PassengerId','Cabin','Embarked'],axis = 1) \n",
    "CB_data_1['Family'] = CB_data_1['Parch']+CB_data_1['SibSp']\n",
    "CB_data_2 = CB_data_1.drop(['SibSp','Parch'], axis = 1)\n",
    "CB_data_2['Sex'] = CB_data_2['Sex'].astype('string')\n",
    "CB_data_2['Age'] = CB_data_2['Age'].fillna(CB_data_2.Age.median())\n",
    "\n",
    "Xcb = CB_data_2\n",
    "\n",
    "test_CB_pred = test_boost_clf.predict(Xcb)\n",
    "\n",
    "opt_testCB_pred_df = pd.DataFrame({'PassengerId':data_to_test.PassengerId,'Survived':test_CB_pred}).set_index('PassengerId')\n",
    "opt_testCB_pred_df.to_csv('/Users/ilyanovikov/Desktop/Opt_testCB_pred.csv')\n",
    "\n",
    "control = pd.read_csv('/Users/ilyanovikov/Desktop/Opt_testCB_pred.csv')\n",
    "print(control.shape)\n",
    "print(control.head(5))\n"
   ]
  },
  {
   "cell_type": "code",
   "execution_count": null,
   "id": "88e770c1",
   "metadata": {},
   "outputs": [],
   "source": []
  },
  {
   "cell_type": "code",
   "execution_count": 22,
   "id": "fe697b89",
   "metadata": {},
   "outputs": [
    {
     "data": {
      "text/plain": [
       "Fare\n",
       "0.0000      1\n",
       "6.9750      1\n",
       "7.1417      1\n",
       "7.2250      3\n",
       "7.2292      4\n",
       "           ..\n",
       "227.5250    3\n",
       "247.5208    1\n",
       "262.3750    2\n",
       "263.0000    2\n",
       "512.3292    3\n",
       "Name: Survived, Length: 153, dtype: int64"
      ]
     },
     "execution_count": 22,
     "metadata": {},
     "output_type": "execute_result"
    }
   ],
   "source": [
    "data_train[data_train.Survived == 1].groupby(['Fare']).Survived.count()"
   ]
  },
  {
   "cell_type": "code",
   "execution_count": 10,
   "id": "d2b60aab",
   "metadata": {},
   "outputs": [
    {
     "data": {
      "image/png": "[encoded data removed]",
      "text/plain": [
       "<Figure size 1080x720 with 1 Axes>"
      ]
     },
     "metadata": {},
     "output_type": "display_data"
    }
   ],
   "source": [
    "import seaborn as sns\n",
    "import matplotlib.pyplot as plt\n",
    "sns.histplot(data = data_train , x=data_train['Age'] , hue=data_train['Survived'],multiple='stack')\n",
    "#plt.xlim([0,100])\n",
    "#plt.ylim([0,300])\n",
    "sns.set(rc={'figure.figsize':(15,10)})"
   ]
  },
  {
   "cell_type": "code",
   "execution_count": 5,
   "id": "58fdb5dd",
   "metadata": {},
   "outputs": [
    {
     "data": {
      "text/html": [
       "<div>\n",
       "<style scoped>\n",
       "    .dataframe tbody tr th:only-of-type {\n",
       "        vertical-align: middle;\n",
       "    }\n",
       "\n",
       "    .dataframe tbody tr th {\n",
       "        vertical-align: top;\n",
       "    }\n",
       "\n",
       "    .dataframe thead th {\n",
       "        text-align: right;\n",
       "    }\n",
       "</style>\n",
       "<table border=\"1\" class=\"dataframe\">\n",
       "  <thead>\n",
       "    <tr style=\"text-align: right;\">\n",
       "      <th></th>\n",
       "      <th>PassengerId</th>\n",
       "      <th>Survived</th>\n",
       "      <th>Pclass</th>\n",
       "      <th>Name</th>\n",
       "      <th>Sex</th>\n",
       "      <th>Age</th>\n",
       "      <th>SibSp</th>\n",
       "      <th>Parch</th>\n",
       "      <th>Ticket</th>\n",
       "      <th>Fare</th>\n",
       "      <th>Cabin</th>\n",
       "      <th>Embarked</th>\n",
       "      <th>Title</th>\n",
       "    </tr>\n",
       "  </thead>\n",
       "  <tbody>\n",
       "    <tr>\n",
       "      <th>0</th>\n",
       "      <td>1</td>\n",
       "      <td>0</td>\n",
       "      <td>3</td>\n",
       "      <td>Braund, Mr. Owen Harris</td>\n",
       "      <td>male</td>\n",
       "      <td>22.0</td>\n",
       "      <td>1</td>\n",
       "      <td>0</td>\n",
       "      <td>A/5 21171</td>\n",
       "      <td>7.2500</td>\n",
       "      <td>NaN</td>\n",
       "      <td>S</td>\n",
       "      <td>0</td>\n",
       "    </tr>\n",
       "    <tr>\n",
       "      <th>1</th>\n",
       "      <td>2</td>\n",
       "      <td>1</td>\n",
       "      <td>1</td>\n",
       "      <td>Cumings, Mrs. John Bradley (Florence Briggs Th...</td>\n",
       "      <td>female</td>\n",
       "      <td>38.0</td>\n",
       "      <td>1</td>\n",
       "      <td>0</td>\n",
       "      <td>PC 17599</td>\n",
       "      <td>71.2833</td>\n",
       "      <td>C85</td>\n",
       "      <td>C</td>\n",
       "      <td>0</td>\n",
       "    </tr>\n",
       "    <tr>\n",
       "      <th>2</th>\n",
       "      <td>3</td>\n",
       "      <td>1</td>\n",
       "      <td>3</td>\n",
       "      <td>Heikkinen, Miss. Laina</td>\n",
       "      <td>female</td>\n",
       "      <td>26.0</td>\n",
       "      <td>0</td>\n",
       "      <td>0</td>\n",
       "      <td>STON/O2. 3101282</td>\n",
       "      <td>7.9250</td>\n",
       "      <td>NaN</td>\n",
       "      <td>S</td>\n",
       "      <td>0</td>\n",
       "    </tr>\n",
       "    <tr>\n",
       "      <th>3</th>\n",
       "      <td>4</td>\n",
       "      <td>1</td>\n",
       "      <td>1</td>\n",
       "      <td>Futrelle, Mrs. Jacques Heath (Lily May Peel)</td>\n",
       "      <td>female</td>\n",
       "      <td>35.0</td>\n",
       "      <td>1</td>\n",
       "      <td>0</td>\n",
       "      <td>113803</td>\n",
       "      <td>53.1000</td>\n",
       "      <td>C123</td>\n",
       "      <td>S</td>\n",
       "      <td>0</td>\n",
       "    </tr>\n",
       "    <tr>\n",
       "      <th>4</th>\n",
       "      <td>5</td>\n",
       "      <td>0</td>\n",
       "      <td>3</td>\n",
       "      <td>Allen, Mr. William Henry</td>\n",
       "      <td>male</td>\n",
       "      <td>35.0</td>\n",
       "      <td>0</td>\n",
       "      <td>0</td>\n",
       "      <td>373450</td>\n",
       "      <td>8.0500</td>\n",
       "      <td>NaN</td>\n",
       "      <td>S</td>\n",
       "      <td>0</td>\n",
       "    </tr>\n",
       "  </tbody>\n",
       "</table>\n",
       "</div>"
      ],
      "text/plain": [
       "   PassengerId  Survived  Pclass  \\\n",
       "0            1         0       3   \n",
       "1            2         1       1   \n",
       "2            3         1       3   \n",
       "3            4         1       1   \n",
       "4            5         0       3   \n",
       "\n",
       "                                                Name     Sex   Age  SibSp  \\\n",
       "0                            Braund, Mr. Owen Harris    male  22.0      1   \n",
       "1  Cumings, Mrs. John Bradley (Florence Briggs Th...  female  38.0      1   \n",
       "2                             Heikkinen, Miss. Laina  female  26.0      0   \n",
       "3       Futrelle, Mrs. Jacques Heath (Lily May Peel)  female  35.0      1   \n",
       "4                           Allen, Mr. William Henry    male  35.0      0   \n",
       "\n",
       "   Parch            Ticket     Fare Cabin Embarked  Title  \n",
       "0      0         A/5 21171   7.2500   NaN        S      0  \n",
       "1      0          PC 17599  71.2833   C85        C      0  \n",
       "2      0  STON/O2. 3101282   7.9250   NaN        S      0  \n",
       "3      0            113803  53.1000  C123        S      0  \n",
       "4      0            373450   8.0500   NaN        S      0  "
      ]
     },
     "execution_count": 5,
     "metadata": {},
     "output_type": "execute_result"
    }
   ],
   "source": [
    "data_train.head(5)"
   ]
  },
  {
   "cell_type": "markdown",
   "id": "ddd5914f",
   "metadata": {},
   "source": [
    "Попробовать Catboost еще раз, более аккуратно внести категориальные переменные"
   ]
  },
  {
   "cell_type": "markdown",
   "id": "1c8b7a2a",
   "metadata": {},
   "source": [
    "**Идеи:**\n",
    "\n",
    "1. Сделать группы по возрастам, условно, 6 групп. Лучше еще раз построить гистограмму по возраста, но отнормировать. Или даже kdf. После чего сделать разбиение по группам. \n",
    "2. Сделать группы по количеству ближайших родственников\n",
    "3. Мне кажется, что я использовал Catboost не по максимуму"
   ]
  },
  {
   "cell_type": "code",
   "execution_count": null,
   "id": "09cf65c8",
   "metadata": {},
   "outputs": [],
   "source": []
  },
  {
   "cell_type": "code",
   "execution_count": null,
   "id": "d674e098",
   "metadata": {},
   "outputs": [],
   "source": []
  }
 ],
 "metadata": {
  "kernelspec": {
   "display_name": "Python 3 (ipykernel)",
   "language": "python",
   "name": "python3"
  },
  "language_info": {
   "codemirror_mode": {
    "name": "ipython",
    "version": 3
   },
   "file_extension": ".py",
   "mimetype": "text/x-python",
   "name": "python",
   "nbconvert_exporter": "python",
   "pygments_lexer": "ipython3",
   "version": "3.9.5"
  }
 },
 "nbformat": 4,
 "nbformat_minor": 5
}
