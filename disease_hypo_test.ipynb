{
 "cells": [
  {
   "cell_type": "markdown",
   "id": "1958c6f6",
   "metadata": {},
   "source": [
    "## Проверка гипотез о заболеваемости разных групп сотрудников в компании"
   ]
  },
  {
   "cell_type": "markdown",
   "id": "cfff3094",
   "metadata": {},
   "source": [
    "**Задача:**\n",
    "В компании N работают мужчины и женщины разного возраста. Иногда они заболевают и пропускают по болезни часть рабочих дней. В файле absent_days_test_data.csv содержится информация о сотруднике (пол, возраст) и о количестве пропущенных ими по болезни рабочих дней. Задача состоит в проверке двух статистических гипотез:\n",
    "- Мужчины пропускают два или более рабочих дней значимо чаще женщин\n",
    "- Сотрудники старше 35 лет пропускают два или более рабочих дней значимо чаще более молодых коллег\n",
    "\n",
    "_Решение должно содержать графики распределений, используемые статистические критерии, результат проверки гипотез._"
   ]
  },
  {
   "cell_type": "markdown",
   "id": "c7e9347f",
   "metadata": {},
   "source": [
    "### Гипотеза №1: Мужчины пропускают 2 и более рабочих дней значимо чаще, чем женщины."
   ]
  },
  {
   "cell_type": "markdown",
   "id": "13e242eb",
   "metadata": {},
   "source": [
    "Импортируем необходимые библиотеки и загружаем файл"
   ]
  },
  {
   "cell_type": "code",
   "execution_count": 2,
   "id": "3918291f",
   "metadata": {},
   "outputs": [
    {
     "name": "stdout",
     "output_type": "stream",
     "text": [
      "Первые несколько строчек из загруженного файла:\n"
     ]
    },
    {
     "data": {
      "text/html": [
       "<div>\n",
       "<style scoped>\n",
       "    .dataframe tbody tr th:only-of-type {\n",
       "        vertical-align: middle;\n",
       "    }\n",
       "\n",
       "    .dataframe tbody tr th {\n",
       "        vertical-align: top;\n",
       "    }\n",
       "\n",
       "    .dataframe thead th {\n",
       "        text-align: right;\n",
       "    }\n",
       "</style>\n",
       "<table border=\"1\" class=\"dataframe\">\n",
       "  <thead>\n",
       "    <tr style=\"text-align: right;\">\n",
       "      <th></th>\n",
       "      <th>Количество больничных дней</th>\n",
       "      <th>Возраст</th>\n",
       "      <th>Пол</th>\n",
       "    </tr>\n",
       "  </thead>\n",
       "  <tbody>\n",
       "    <tr>\n",
       "      <th>0</th>\n",
       "      <td>5</td>\n",
       "      <td>39</td>\n",
       "      <td>Ж</td>\n",
       "    </tr>\n",
       "    <tr>\n",
       "      <th>1</th>\n",
       "      <td>4</td>\n",
       "      <td>54</td>\n",
       "      <td>М</td>\n",
       "    </tr>\n",
       "    <tr>\n",
       "      <th>2</th>\n",
       "      <td>4</td>\n",
       "      <td>26</td>\n",
       "      <td>М</td>\n",
       "    </tr>\n",
       "    <tr>\n",
       "      <th>3</th>\n",
       "      <td>5</td>\n",
       "      <td>42</td>\n",
       "      <td>М</td>\n",
       "    </tr>\n",
       "    <tr>\n",
       "      <th>4</th>\n",
       "      <td>4</td>\n",
       "      <td>29</td>\n",
       "      <td>М</td>\n",
       "    </tr>\n",
       "    <tr>\n",
       "      <th>5</th>\n",
       "      <td>4</td>\n",
       "      <td>38</td>\n",
       "      <td>М</td>\n",
       "    </tr>\n",
       "    <tr>\n",
       "      <th>6</th>\n",
       "      <td>1</td>\n",
       "      <td>49</td>\n",
       "      <td>Ж</td>\n",
       "    </tr>\n",
       "  </tbody>\n",
       "</table>\n",
       "</div>"
      ],
      "text/plain": [
       "   Количество больничных дней  Возраст Пол\n",
       "0                           5       39   Ж\n",
       "1                           4       54   М\n",
       "2                           4       26   М\n",
       "3                           5       42   М\n",
       "4                           4       29   М\n",
       "5                           4       38   М\n",
       "6                           1       49   Ж"
      ]
     },
     "execution_count": 2,
     "metadata": {},
     "output_type": "execute_result"
    }
   ],
   "source": [
    "import numpy as np \n",
    "import pandas as pd \n",
    "import matplotlib.pyplot as plt\n",
    "import scipy.stats as sts\n",
    "import seaborn as sns\n",
    "\n",
    "df = pd.read_csv('/Users/ilyanovikov/Desktop/absent_days_test_data.csv', sep = ';')\n",
    "print('Первые несколько строчек из загруженного файла:')\n",
    "df.head(7)"
   ]
  },
  {
   "cell_type": "markdown",
   "id": "67cc196a",
   "metadata": {},
   "source": [
    "Выберем тех сотрудников, которые пропустили по болезни два или более дней. Далее из получившихся данных извлечем выборки, соответствующие сотрудникам-мужчинам и женщинам. Несмотря на то, что объект исследования для этих выборок один и тот же, группы испытуемых разные, поэтому выборки нельзя считать связанными/зависимыми."
   ]
  },
  {
   "cell_type": "code",
   "execution_count": 3,
   "id": "0491ecee",
   "metadata": {},
   "outputs": [],
   "source": [
    "data1 = df[df['Количество больничных дней'] > 2]\n",
    "data_male = data1[data1.Пол == 'М']\n",
    "data_female = data1[data1.Пол == 'Ж']"
   ]
  },
  {
   "cell_type": "markdown",
   "id": "cb5f6c67",
   "metadata": {},
   "source": [
    " Построим гистограммы двух выборок. Посмотрим на их сводную статистику."
   ]
  },
  {
   "cell_type": "code",
   "execution_count": 4,
   "id": "135414f8",
   "metadata": {},
   "outputs": [
    {
     "name": "stdout",
     "output_type": "stream",
     "text": [
      "Мужчины \n",
      " count    84.000000\n",
      "mean      4.333333\n",
      "std       1.475367\n",
      "min       3.000000\n",
      "25%       3.000000\n",
      "50%       4.000000\n",
      "75%       5.000000\n",
      "max       8.000000\n",
      "Name: Количество больничных дней, dtype: float64\n",
      "\n",
      " Женщины \n",
      " count    67.000000\n",
      "mean      4.238806\n",
      "std       1.268375\n",
      "min       3.000000\n",
      "25%       3.000000\n",
      "50%       4.000000\n",
      "75%       5.000000\n",
      "max       8.000000\n",
      "Name: Количество больничных дней, dtype: float64\n"
     ]
    },
    {
     "data": {
      "image/png": "[encoded data removed]",
      "text/plain": [
       "<Figure size 864x288 with 2 Axes>"
      ]
     },
     "metadata": {
      "needs_background": "light"
     },
     "output_type": "display_data"
    }
   ],
   "source": [
    "figure, ax = plt.subplots(1, 2, figsize = (12,4))\n",
    "\n",
    "plt.rcParams.update({'font.size': 12})\n",
    "\n",
    "ax[0].hist(data_male['Количество больничных дней'], color = 'maroon')\n",
    "ax[0].set_title('Мужчины')\n",
    "ax[0].set_xlabel('Количество пропущенных дней')\n",
    "ax[0].set_ylabel('Число пропустивших')\n",
    "#ax[0].set_xlim(0,9)\n",
    "\n",
    "ax[1].hist(data_female['Количество больничных дней'], color = 'blue')\n",
    "ax[1].set_title('Женщины')\n",
    "ax[1].set_xlabel('Количество пропущенных дней')\n",
    "ax[1].set_ylabel('Число пропустивших')\n",
    "\n",
    "print('Мужчины','\\n', data_male['Количество больничных дней'].describe())\n",
    "print('\\n','Женщины','\\n', data_female['Количество больничных дней'].describe())\n"
   ]
  },
  {
   "cell_type": "markdown",
   "id": "63df4e57",
   "metadata": {},
   "source": [
    "Можно также аппроксимировать выборочные данные ядерной оценкой плотности:"
   ]
  },
  {
   "cell_type": "code",
   "execution_count": 5,
   "id": "ec8b67be",
   "metadata": {},
   "outputs": [
    {
     "data": {
      "text/plain": [
       "Text(0.5, 1.0, 'KDE-plot')"
      ]
     },
     "execution_count": 5,
     "metadata": {},
     "output_type": "execute_result"
    },
    {
     "data": {
      "image/png": "[encoded data removed]",
      "text/plain": [
       "<Figure size 432x288 with 1 Axes>"
      ]
     },
     "metadata": {
      "needs_background": "light"
     },
     "output_type": "display_data"
    }
   ],
   "source": [
    "fig = sns.kdeplot(data = data1, x = 'Количество больничных дней', hue = 'Пол')\n",
    "fig.set_title('KDE-plot')"
   ]
  },
  {
   "cell_type": "markdown",
   "id": "2dca4e18",
   "metadata": {},
   "source": [
    "Первый шаг - проверка гипотезы о том, что выборки извлечены из генеральной совокупности (ГС), в которой случайная величина (СВ) распределена по нормальному закону. Это нужно для выбора статистического критериями в дальнейшем."
   ]
  },
  {
   "cell_type": "markdown",
   "id": "c7cfa35c",
   "metadata": {},
   "source": [
    "#### Процесс проверки статистической гипотезы о нормальности распределения:\n",
    "\n",
    "1. Формируем нулевую (H0) и альтернативную (H1) гипотезы:\n",
    "- В ГС, из которой извлечены выборки, случайная величина распределена нормально (H0)\n",
    "- В ГС распределение случайной величины значимо отличается от нормального (H1)\n",
    "\n",
    "2. Выбираем p-уровень значимости (порог отклонения нулевой гипотезы при условии, что она верна). Здесь и далее он будет выбран равным 0.05.\n",
    "\n",
    "3. Выбираем статистический тест. Для проверки распределений на нормальность будем использовать тест Шапиро-Вилка.\n",
    "\n",
    "4. Если рассчитанная тестом вероятность (pval) получить такие или еще большие отклонения (при условии верности H0) меньше порога значимости (0.05), то отвергаем 0-ю гипотезу и считаем, что распределение отличается от нормального. Если pval > 0.05, то достаточных оснований для отклонения нулевой гипотезы нет, в этом случае считаем, что СВ в ГС (и выборке) распределена нормально."
   ]
  },
  {
   "cell_type": "markdown",
   "id": "39b5daef",
   "metadata": {},
   "source": [
    "Гипотезу о нормальности распределения будем проверять для обеих выборок."
   ]
  },
  {
   "cell_type": "code",
   "execution_count": 8,
   "id": "04636ded",
   "metadata": {},
   "outputs": [
    {
     "name": "stdout",
     "output_type": "stream",
     "text": [
      "мужчины \n",
      "\n",
      "статистика: 0.8159011602401733\n",
      "p-val: 7.513522248814297e-09\n",
      "CВ, из которой извлечена выборка, распределена НЕ НОРМАЛЬНО \n",
      "\n",
      "женщины \n",
      "\n",
      "статистика: 0.8414593935012817\n",
      "p-val: 5.730509542445361e-07\n",
      "CВ, из которой извлечена выборка, распределена НЕ НОРМАЛЬНО\n"
     ]
    }
   ],
   "source": [
    "male_sick = data_male['Количество больничных дней'].to_numpy()\n",
    "female_sick = data_female['Количество больничных дней'].to_numpy()\n",
    "\n",
    "print('мужчины','\\n')\n",
    "statm, pm = sts.shapiro(male_sick)\n",
    "print('статистика:', statm)\n",
    "print('p-val:',pm)\n",
    "\n",
    "if pm > 0.05:\n",
    "    print('СВ распределена нормально (верна 0-я гипотеза)','\\n')\n",
    "else:\n",
    "    print('CВ, из которой извлечена выборка, распределена НЕ НОРМАЛЬНО','\\n')\n",
    "    \n",
    "    \n",
    "print('женщины','\\n')\n",
    "statf, pf = sts.shapiro(female_sick)\n",
    "print('статистика:', statf)\n",
    "print('p-val:',pf)\n",
    "\n",
    "if pf > 0.05:\n",
    "    print('СВ распределена нормально (верна 0-я гипотеза)')\n",
    "else:\n",
    "    print('CВ, из которой извлечена выборка, распределена НЕ НОРМАЛЬНО')"
   ]
  },
  {
   "cell_type": "markdown",
   "id": "3cea8063",
   "metadata": {},
   "source": [
    "#### Промежуточный итог:\n",
    "Итак, у нас есть две независимые (несвязанные) выборки, извлеченные из ГС, СВ в которой не подчиняется нормальному закону. Для установления наличия (или отсутствия) статистически значимых различий в этом случае необходимо использовать непараметрические критерии. В рассматриваемом случае (2 выборки, независимые, распределение отличаеся от нормального) следует использовать ***U-критерий Манна-Уитни***."
   ]
  },
  {
   "cell_type": "markdown",
   "id": "f3b86e8c",
   "metadata": {},
   "source": [
    "#### Проверка гипотезы о статистической значимости значимости различий в двух рассматриваемых группах"
   ]
  },
  {
   "cell_type": "markdown",
   "id": "17767588",
   "metadata": {},
   "source": [
    "1. Формируем нулевую (H0) и альтернативную (H1) гипотезы:\n",
    "- Отсутствуют статистически значимые различия в частоте пропусков у мужчин и женщин (H0)\n",
    "- Есть статистически значимые различия в частоте пропусков двух рассматриваемых групп (H1)\n",
    "\n",
    "2. Выбираем p-уровень значимости равным 0.05.\n",
    "\n",
    "3. В качестве статистического теста будем использовать U-критерий Манна-Уитни.\n",
    "\n",
    "\n",
    "4. Устанавливаем следующие правила:\n",
    "- Если pval < 0.05: Различия статистически значимы;\n",
    "- Если pval > 0.05: Нет достаточных оснований для того, чтобы отвергнуть нулевую гипотезу. Нельзя говорить о значимости различий."
   ]
  },
  {
   "cell_type": "markdown",
   "id": "c5ee0520",
   "metadata": {},
   "source": [
    "**UPD** Можно использовать не двусторонний критерий Манна-Уитни, а односторонний и проверять более конкретные гипотезы (одно больше или меньше другого). Это лучше подходит для нашей задачи.\n",
    "\n",
    "Для одностороннего критерия модифицируем альтернативную гипотезу:\n",
    "\n",
    "H1: Мужчины пропускают значимо чаще (больше), чем женщины.\n"
   ]
  },
  {
   "cell_type": "code",
   "execution_count": 10,
   "id": "c6047644",
   "metadata": {},
   "outputs": [
    {
     "name": "stdout",
     "output_type": "stream",
     "text": [
      "U-критерий Манна-Уитни\n",
      "Статистика: 2829.0\n",
      "p-value: 0.4774086565269439\n",
      "Различия между двумя группами НЕ являются статистически значимыми\n"
     ]
    }
   ],
   "source": [
    "stats_mf, p_mf = sts.mannwhitneyu(male_sick,female_sick, alternative = 'greater')\n",
    "print('U-критерий Манна-Уитни')\n",
    "print('Статистика:', stats_mf)\n",
    "print('p-value:',p_mf)\n",
    "\n",
    "if p_mf < 0.05:\n",
    "    print('Мужчины пропускают по болезни чаще, чем женщины.')\n",
    "else:\n",
    "    print('Различия между двумя группами НЕ являются статистически значимыми')"
   ]
  },
  {
   "cell_type": "markdown",
   "id": "2498526a",
   "metadata": {},
   "source": [
    "Мы видим, что вероятность получить такие или еще большие различия при условии, что верна нулевая гипотеза, оказалась заметно выше уставноленного порога.\n",
    "\n",
    "**ИТОГ**: Различия в частоте более 2 пропусков мужчинами и женщинами **НЕ являются значимыми**."
   ]
  },
  {
   "cell_type": "markdown",
   "id": "2181b656",
   "metadata": {},
   "source": [
    "-----------------"
   ]
  },
  {
   "cell_type": "markdown",
   "id": "427c833e",
   "metadata": {},
   "source": [
    "### Гипотеза №2:\tРаботники старше 35 лет пропускают в течение года более 2 рабочих дней по болезни значимо чаще своих более молодых коллег."
   ]
  },
  {
   "cell_type": "markdown",
   "id": "0f8476ad",
   "metadata": {},
   "source": [
    "Стандартная процедура: фильтрация данных, извлечение выборок, построение гистограмм распределений, описательная статистика."
   ]
  },
  {
   "cell_type": "code",
   "execution_count": 11,
   "id": "63ee1eb2",
   "metadata": {},
   "outputs": [
    {
     "name": "stdout",
     "output_type": "stream",
     "text": [
      "Старшие товарищи \n",
      " count    115.000000\n",
      "mean       4.243478\n",
      "std        1.361058\n",
      "min        3.000000\n",
      "25%        3.000000\n",
      "50%        4.000000\n",
      "75%        5.000000\n",
      "max        8.000000\n",
      "Name: Количество больничных дней, dtype: float64\n",
      "\n",
      " Молодые сотрудники \n",
      " count    36.000000\n",
      "mean      4.444444\n",
      "std       1.462765\n",
      "min       3.000000\n",
      "25%       3.000000\n",
      "50%       4.000000\n",
      "75%       5.000000\n",
      "max       8.000000\n",
      "Name: Количество больничных дней, dtype: float64\n"
     ]
    },
    {
     "data": {
      "image/png": "[encoded data removed]",
      "text/plain": [
       "<Figure size 864x288 with 2 Axes>"
      ]
     },
     "metadata": {
      "needs_background": "light"
     },
     "output_type": "display_data"
    }
   ],
   "source": [
    "data1 = df[df['Количество больничных дней'] > 2]\n",
    "\n",
    "over_th = data1[data1['Возраст']> 35] #старше 35\n",
    "under_th = data1[data1['Возраст'] <= 35] #моложе 35\n",
    "\n",
    "figure, ax = plt.subplots(1, 2, figsize = (12,4))\n",
    "\n",
    "plt.rcParams.update({'font.size': 12})\n",
    "\n",
    "ax[0].hist(over_th['Количество больничных дней'], color = 'maroon')\n",
    "ax[0].set_title('Старшие товарищи')\n",
    "ax[0].set_xlabel('Количество пропущенных дней')\n",
    "ax[0].set_ylabel('Число пропустивших')\n",
    "\n",
    "ax[1].hist(under_th['Количество больничных дней'], color = 'blue')\n",
    "ax[1].set_title('Молодые сотрудники')\n",
    "ax[1].set_xlabel('Количество пропущенных дней')\n",
    "ax[1].set_ylabel('Число пропустивших')\n",
    "\n",
    "print('Старшие товарищи','\\n', over_th['Количество больничных дней'].describe())\n",
    "print('\\n','Молодые сотрудники','\\n', under_th['Количество больничных дней'].describe())\n",
    "\n"
   ]
  },
  {
   "cell_type": "code",
   "execution_count": 12,
   "id": "e05ad5a5",
   "metadata": {},
   "outputs": [
    {
     "data": {
      "text/plain": [
       "Text(0.5, 1.0, 'KDE-plot')"
      ]
     },
     "execution_count": 12,
     "metadata": {},
     "output_type": "execute_result"
    },
    {
     "data": {
      "image/png": "[encoded data removed]",
      "text/plain": [
       "<Figure size 432x288 with 1 Axes>"
      ]
     },
     "metadata": {
      "needs_background": "light"
     },
     "output_type": "display_data"
    }
   ],
   "source": [
    "data2 = data1.reset_index().drop('index', axis = 1)\n",
    "\n",
    "data2['Группа'] = None\n",
    "for i in range(0, len(data2)):\n",
    "    if data2.loc[i,'Возраст'] > 35:\n",
    "        data2.loc[i,'Группа'] = 'Старшие'\n",
    "    else:\n",
    "        data2.loc[i,'Группа'] = 'Молодые'\n",
    "\n",
    "fig = sns.kdeplot(data = data2, x ='Количество больничных дней', hue = 'Группа')\n",
    "fig.set_title('KDE-plot')"
   ]
  },
  {
   "cell_type": "markdown",
   "id": "78d9c5a5",
   "metadata": {},
   "source": [
    "#### Проверка распределения выборочных данных на нормальность.\n",
    "\n",
    "Кратко процедура проверки:\n",
    "1. Формируем H0 и H1:\n",
    "- Распределение СВ в выборке нормальное;\n",
    "- Распределение СВ в выборке отличается от нормального;\n",
    "\n",
    "2. Выбираем p-уровень значимости: p<sub>crit</sub> = 0.05\n",
    "\n",
    "3. Выбираем статистический критерий: тест Шапиро-Вилка\n",
    "\n",
    "\n",
    "4. Правила:\n",
    "- p-val < p<sub>crit</sub>: Распределение отличается от нормального\n",
    "- p-val > p<sub>crit</sub>: Нет оснований утверждать, что распределения выборочных данных отличается от нормального"
   ]
  },
  {
   "cell_type": "code",
   "execution_count": 13,
   "id": "37304279",
   "metadata": {},
   "outputs": [
    {
     "name": "stdout",
     "output_type": "stream",
     "text": [
      "Старшие товарищи \n",
      "\n",
      "статистика: 0.8259267210960388\n",
      "p-val: 2.490216088890662e-10\n",
      "CВ, из которой извлечена выборка, распределена НЕ НОРМАЛЬНО \n",
      "\n",
      "Молодые сотрудники \n",
      "\n",
      "статистика: 0.8257861733436584\n",
      "p-val: 5.530375710804947e-05\n",
      "CВ, из которой извлечена выборка, распределена НЕ НОРМАЛЬНО \n",
      "\n"
     ]
    }
   ],
   "source": [
    "# Проверка обоих распределений на нормальность\n",
    "\n",
    "over_th_sick = over_th['Количество больничных дней'].to_numpy()\n",
    "under_th_sick = under_th['Количество больничных дней'].to_numpy()\n",
    "\n",
    "print('Старшие товарищи','\\n')\n",
    "stato, po = sts.shapiro(over_th_sick)\n",
    "print('статистика:', stato)\n",
    "print('p-val:',po)\n",
    "\n",
    "if po < 0.05:\n",
    "    print('CВ, из которой извлечена выборка, распределена НЕ НОРМАЛЬНО','\\n')\n",
    "else:\n",
    "    print('СВ распределена нормально (верна 0-я гипотеза)','\\n')\n",
    "\n",
    "print('Молодые сотрудники','\\n')\n",
    "statu, pu = sts.shapiro(under_th_sick)\n",
    "print('статистика:', statu)\n",
    "print('p-val:',pu)\n",
    "\n",
    "if pu < 0.05:\n",
    "    print('CВ, из которой извлечена выборка, распределена НЕ НОРМАЛЬНО','\\n')\n",
    "else:\n",
    "    print('СВ распределена нормально (верна 0-я гипотеза)','\\n')\n",
    "\n"
   ]
  },
  {
   "cell_type": "markdown",
   "id": "5b8afaa7",
   "metadata": {},
   "source": [
    "В обеих наших независимых выборках случайная величина распределена не по нормальному закону. Необходимо использовать **U-критерий Манна-Уитни**."
   ]
  },
  {
   "cell_type": "markdown",
   "id": "f93ae515",
   "metadata": {},
   "source": [
    "#### Проверка гипотезы о значимости различий в частоте пропусков у взрослых и молодых сотрудников.\n",
    "\n",
    "1. Нулевая и альтернативная гипотезы:\n",
    "- Отсутствуют статистически значимые различия в частоте пропусков у взрослых и молодых сотрудников (H0)\n",
    "- Есть статистически значимые различия в частоте пропусков двух рассматриваемых групп (H1)\n",
    "\n",
    "2. Выбираем p-уровень значимости равным 0.05.\n",
    "\n",
    "3. В качестве статистического теста будем использовать U-критерий Манна-Уитни.\n",
    "\n",
    "\n",
    "4. Устанавливаем следующие правила:\n",
    "- Если pval < 0.05: Различия статистически значимы;\n",
    "- Если pval > 0.05: Нет достаточных оснований для того, чтобы отвергнуть нулевую гипотезу. Нельзя говорить о значимости различий."
   ]
  },
  {
   "cell_type": "code",
   "execution_count": 14,
   "id": "585f49dd",
   "metadata": {},
   "outputs": [
    {
     "name": "stdout",
     "output_type": "stream",
     "text": [
      "U-критерий Манна-Уитни\n",
      "Статистика: 1888.0\n",
      "p-value: 0.408297183958816\n",
      "Различия между двумя группами НЕ являются статистически значимыми\n"
     ]
    }
   ],
   "source": [
    "stats_ou, p_ou = sts.mannwhitneyu(over_th_sick, under_th_sick)\n",
    "print('U-критерий Манна-Уитни')\n",
    "print('Статистика:', stats_ou)\n",
    "print('p-value:',p_ou)\n",
    "\n",
    "if p_mf < 0.05:\n",
    "    print('Различия между двумя группами статистически значимые')\n",
    "else:\n",
    "    print('Различия между двумя группами НЕ являются статистически значимыми')"
   ]
  },
  {
   "cell_type": "markdown",
   "id": "87cee0b0",
   "metadata": {},
   "source": [
    "**Итог**: Видно, что p-value оказался больше критического значения. Различия в частоте пропусков между более взрослыми и молодыми сотрудниками оказались **незначимыми**."
   ]
  },
  {
   "cell_type": "markdown",
   "id": "af6aecd4",
   "metadata": {},
   "source": [
    "### Вывод \n",
    "По результатам проверки обеих гипотез оказалось, что в обоих случаях наблюдаемые различия **НЕ** являются статистически значимыми. Обе гипотезы были опровергнуты."
   ]
  },
  {
   "cell_type": "code",
   "execution_count": null,
   "id": "3e03af9e",
   "metadata": {},
   "outputs": [],
   "source": []
  }
 ],
 "metadata": {
  "kernelspec": {
   "display_name": "Python 3 (ipykernel)",
   "language": "python",
   "name": "python3"
  },
  "language_info": {
   "codemirror_mode": {
    "name": "ipython",
    "version": 3
   },
   "file_extension": ".py",
   "mimetype": "text/x-python",
   "name": "python",
   "nbconvert_exporter": "python",
   "pygments_lexer": "ipython3",
   "version": "3.9.5"
  }
 },
 "nbformat": 4,
 "nbformat_minor": 5
}
